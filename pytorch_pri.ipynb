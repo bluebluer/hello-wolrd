{
  "nbformat": 4,
  "nbformat_minor": 0,
  "metadata": {
    "colab": {
      "provenance": [],
      "authorship_tag": "ABX9TyO99OPyoayypE+uPhahmPp4",
      "include_colab_link": true
    },
    "kernelspec": {
      "name": "python3",
      "display_name": "Python 3"
    },
    "language_info": {
      "name": "python"
    }
  },
  "cells": [
    {
      "cell_type": "markdown",
      "metadata": {
        "id": "view-in-github",
        "colab_type": "text"
      },
      "source": [
        "<a href=\"https://colab.research.google.com/github/bluebluer/hello-wolrd/blob/master/pytorch_pri.ipynb\" target=\"_parent\"><img src=\"https://colab.research.google.com/assets/colab-badge.svg\" alt=\"Open In Colab\"/></a>"
      ]
    },
    {
      "cell_type": "code",
      "execution_count": 2,
      "metadata": {
        "id": "GOPZYt96b_r1"
      },
      "outputs": [],
      "source": [
        "import torch\n",
        "?torch.tensor\n",
        "\"\"\"\n",
        "  tensor(data, *, dtype=None, \n",
        "  device=None, requires_grad=False, pin_memory=False) -> Tensor\n",
        "\"\"\""
      ]
    },
    {
      "cell_type": "code",
      "source": [
        "# 创建tensor，用dtype指定类型\n",
        "a = torch.tensor(1.0,dtype=torch.float)\n",
        "b = torch.tensor(1,dtype=torch.long)\n",
        "c = torch.tensor(1.0,dtype=torch.int8)\n",
        "print(a,b,c)"
      ],
      "metadata": {
        "colab": {
          "base_uri": "https://localhost:8080/"
        },
        "id": "bEcGysx_c1PS",
        "outputId": "c40c5779-358e-47df-e02b-f0e82668ba1c"
      },
      "execution_count": 3,
      "outputs": [
        {
          "output_type": "stream",
          "name": "stdout",
          "text": [
            "tensor(1.) tensor(1) tensor(1, dtype=torch.int8)\n"
          ]
        }
      ]
    },
    {
      "cell_type": "code",
      "source": [
        "# 使用指定类型函数随机初始化指定大小的tensor\n",
        "d = torch.FloatTensor(2,3)\n",
        "e = torch.IntTensor(2)\n",
        "f = torch.IntTensor([1,2,3,4])\n",
        "print(d,'\\n',e,'\\n',f)"
      ],
      "metadata": {
        "colab": {
          "base_uri": "https://localhost:8080/"
        },
        "id": "aVU1IClJdoAi",
        "outputId": "2b7e1100-fae5-4947-acd1-70687bb334eb"
      },
      "execution_count": 14,
      "outputs": [
        {
          "output_type": "stream",
          "name": "stdout",
          "text": [
            "tensor([[2.3308e-35, 0.0000e+00, 3.3631e-44],\n",
            "        [0.0000e+00,        nan, 1.5554e-43]]) \n",
            " tensor([100129088,         0], dtype=torch.int32) \n",
            " tensor([1, 2, 3, 4], dtype=torch.int32)\n"
          ]
        }
      ]
    },
    {
      "cell_type": "code",
      "source": [
        "# tensor和numpy array之间的相互转换\n",
        "import numpy as np\n",
        "g = np.array([[1,2,3],[4,5,6]])\n",
        "h = torch.tensor(g)\n",
        "print(g,'\\n',h)"
      ],
      "metadata": {
        "colab": {
          "base_uri": "https://localhost:8080/"
        },
        "id": "osDVh8KieFnp",
        "outputId": "bb2da1a3-513e-40e8-9ae4-75f207c1469e"
      },
      "execution_count": 15,
      "outputs": [
        {
          "output_type": "stream",
          "name": "stdout",
          "text": [
            "[[1 2 3]\n",
            " [4 5 6]] \n",
            " tensor([[1, 2, 3],\n",
            "        [4, 5, 6]])\n"
          ]
        }
      ]
    },
    {
      "cell_type": "code",
      "source": [
        "i = torch.from_numpy(g)\n",
        "print(i)\n",
        "j = h.numpy()\n",
        "print(j)"
      ],
      "metadata": {
        "colab": {
          "base_uri": "https://localhost:8080/"
        },
        "id": "_5U-3QFvfZhC",
        "outputId": "a139a6f7-987e-497b-b685-2d6cd61248e8"
      },
      "execution_count": 16,
      "outputs": [
        {
          "output_type": "stream",
          "name": "stdout",
          "text": [
            "tensor([[1, 2, 3],\n",
            "        [4, 5, 6]])\n",
            "[[1 2 3]\n",
            " [4 5 6]]\n"
          ]
        }
      ]
    },
    {
      "cell_type": "code",
      "source": [
        "# 常见的构造Tnesor的函数\n",
        "k = torch.rand(2,3)\n",
        "l = torch.ones(2,3)\n",
        "m = torch.zeros(2,3)\n",
        "n = torch.arange(0,10,2)\n",
        "print(k,'\\n',l,'\\n',m,'\\n',n)"
      ],
      "metadata": {
        "colab": {
          "base_uri": "https://localhost:8080/"
        },
        "id": "V8FyGDlvfl3Q",
        "outputId": "fd7c4de9-3cef-4664-dcc3-8775c1f50aa2"
      },
      "execution_count": 17,
      "outputs": [
        {
          "output_type": "stream",
          "name": "stdout",
          "text": [
            "tensor([[0.1942, 0.1981, 0.0044],\n",
            "        [0.6289, 0.1263, 0.9129]]) \n",
            " tensor([[1., 1., 1.],\n",
            "        [1., 1., 1.]]) \n",
            " tensor([[0., 0., 0.],\n",
            "        [0., 0., 0.]]) \n",
            " tensor([0, 2, 4, 6, 8])\n"
          ]
        }
      ]
    },
    {
      "cell_type": "code",
      "source": [
        "# 查看tensor的维度信息\n",
        "print(k.shape)\n",
        "print(k.size())"
      ],
      "metadata": {
        "colab": {
          "base_uri": "https://localhost:8080/"
        },
        "id": "sL1oKctDgLqh",
        "outputId": "2bce0668-9a13-41ce-df15-f421db48af53"
      },
      "execution_count": 18,
      "outputs": [
        {
          "output_type": "stream",
          "name": "stdout",
          "text": [
            "torch.Size([2, 3])\n",
            "torch.Size([2, 3])\n"
          ]
        }
      ]
    },
    {
      "cell_type": "code",
      "source": [
        "# torch的运算\n",
        "print(torch.add(k,1))"
      ],
      "metadata": {
        "colab": {
          "base_uri": "https://localhost:8080/"
        },
        "id": "VLW6FZZbgYbI",
        "outputId": "a778a311-bb43-4411-d632-3c489ff46706"
      },
      "execution_count": 19,
      "outputs": [
        {
          "output_type": "stream",
          "name": "stdout",
          "text": [
            "tensor([[1.1942, 1.1981, 1.0044],\n",
            "        [1.6289, 1.1263, 1.9129]])\n"
          ]
        }
      ]
    },
    {
      "cell_type": "code",
      "source": [
        "# tensor的索引方式与numpy相似\n",
        "o = torch.add(k,1)\n",
        "print(o[:,1])\n",
        "print(o[0,:])\n"
      ],
      "metadata": {
        "colab": {
          "base_uri": "https://localhost:8080/"
        },
        "id": "X3HvPQf5gkMQ",
        "outputId": "380701cc-caf5-4cd3-e767-4290e70d4d33"
      },
      "execution_count": 20,
      "outputs": [
        {
          "output_type": "stream",
          "name": "stdout",
          "text": [
            "tensor([1.1981, 1.1263])\n",
            "tensor([1.1942, 1.1981, 1.0044])\n"
          ]
        }
      ]
    },
    {
      "cell_type": "code",
      "source": [
        "# 改变tensor的形状 view\n",
        "print(o.view(3,2))\n",
        "print(o.view(-1,2))"
      ],
      "metadata": {
        "colab": {
          "base_uri": "https://localhost:8080/"
        },
        "id": "FbxXxB0tg3Z3",
        "outputId": "df0d7499-1aec-4736-d35b-0b08096f896a"
      },
      "execution_count": 21,
      "outputs": [
        {
          "output_type": "stream",
          "name": "stdout",
          "text": [
            "tensor([[1.1942, 1.1981],\n",
            "        [1.0044, 1.6289],\n",
            "        [1.1263, 1.9129]])\n",
            "tensor([[1.1942, 1.1981],\n",
            "        [1.0044, 1.6289],\n",
            "        [1.1263, 1.9129]])\n"
          ]
        }
      ]
    },
    {
      "cell_type": "code",
      "source": [
        "# tensor的广播机制\n",
        "p = torch.arange(1,3).view(1,2)\n",
        "print(p)\n",
        "q = torch.arange(1,4).view(3,1)\n",
        "print(q)\n",
        "print(p+q)"
      ],
      "metadata": {
        "colab": {
          "base_uri": "https://localhost:8080/"
        },
        "id": "Ty7DkIohhFFW",
        "outputId": "14a08a3f-2e81-47b0-dc1c-dd1bba3a4150"
      },
      "execution_count": 22,
      "outputs": [
        {
          "output_type": "stream",
          "name": "stdout",
          "text": [
            "tensor([[1, 2]])\n",
            "tensor([[1],\n",
            "        [2],\n",
            "        [3]])\n",
            "tensor([[2, 3],\n",
            "        [3, 4],\n",
            "        [4, 5]])\n"
          ]
        }
      ]
    },
    {
      "cell_type": "code",
      "source": [
        "# 扩展压缩tensor维度:squeeze\n",
        "print(o)\n",
        "r = o.unsqueeze(1)\n",
        "print(r)\n",
        "print(r.shape)"
      ],
      "metadata": {
        "colab": {
          "base_uri": "https://localhost:8080/"
        },
        "id": "PTaairMviowP",
        "outputId": "ae11f18f-86d5-4b96-e2f6-2aef7eb1a477"
      },
      "execution_count": 23,
      "outputs": [
        {
          "output_type": "stream",
          "name": "stdout",
          "text": [
            "tensor([[1.1942, 1.1981, 1.0044],\n",
            "        [1.6289, 1.1263, 1.9129]])\n",
            "tensor([[[1.1942, 1.1981, 1.0044]],\n",
            "\n",
            "        [[1.6289, 1.1263, 1.9129]]])\n",
            "torch.Size([2, 1, 3])\n"
          ]
        }
      ]
    },
    {
      "cell_type": "code",
      "source": [
        "# 只有维度为一的时候才可以压缩squueze\n",
        "s = r.squeeze(0)\n",
        "print(s)\n",
        "print(s.shape)"
      ],
      "metadata": {
        "colab": {
          "base_uri": "https://localhost:8080/"
        },
        "id": "DzmsZrKMjBRW",
        "outputId": "0b598d8d-8b18-4ccc-889c-17e448ebb468"
      },
      "execution_count": 24,
      "outputs": [
        {
          "output_type": "stream",
          "name": "stdout",
          "text": [
            "tensor([[[1.1942, 1.1981, 1.0044]],\n",
            "\n",
            "        [[1.6289, 1.1263, 1.9129]]])\n",
            "torch.Size([2, 1, 3])\n"
          ]
        }
      ]
    },
    {
      "cell_type": "code",
      "source": [
        "t = r.squeeze(1)\n",
        "print(t)\n",
        "print(t.shape)"
      ],
      "metadata": {
        "colab": {
          "base_uri": "https://localhost:8080/"
        },
        "id": "QKTKVRyjjkGf",
        "outputId": "c002154a-50a1-4b0f-ab3f-1e4dae4f9f70"
      },
      "execution_count": 25,
      "outputs": [
        {
          "output_type": "stream",
          "name": "stdout",
          "text": [
            "tensor([[1.1942, 1.1981, 1.0044],\n",
            "        [1.6289, 1.1263, 1.9129]])\n",
            "torch.Size([2, 3])\n"
          ]
        }
      ]
    },
    {
      "cell_type": "code",
      "source": [],
      "metadata": {
        "id": "pGQyDZ3rj8tF"
      },
      "execution_count": null,
      "outputs": []
    }
  ]
}