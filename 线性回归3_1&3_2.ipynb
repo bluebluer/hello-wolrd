{
  "nbformat": 4,
  "nbformat_minor": 0,
  "metadata": {
    "colab": {
      "name": "线性回归3.1&3.2.ipynb",
      "provenance": [],
      "authorship_tag": "ABX9TyOJEC3D5Yms26YAPM92fBzo",
      "include_colab_link": true
    },
    "kernelspec": {
      "name": "python3",
      "display_name": "Python 3"
    },
    "language_info": {
      "name": "python"
    }
  },
  "cells": [
    {
      "cell_type": "markdown",
      "metadata": {
        "id": "view-in-github",
        "colab_type": "text"
      },
      "source": [
        "<a href=\"https://colab.research.google.com/github/bluebluer/hello-wolrd/blob/master/%E7%BA%BF%E6%80%A7%E5%9B%9E%E5%BD%923_1%263_2.ipynb\" target=\"_parent\"><img src=\"https://colab.research.google.com/assets/colab-badge.svg\" alt=\"Open In Colab\"/></a>"
      ]
    },
    {
      "cell_type": "code",
      "source": [
        "! pip install torch"
      ],
      "metadata": {
        "id": "1JLF4rcx_vJ2"
      },
      "execution_count": null,
      "outputs": []
    },
    {
      "cell_type": "code",
      "source": [
        "import torch\n",
        "from time import time"
      ],
      "metadata": {
        "id": "f8q9nOtD__0T"
      },
      "execution_count": 4,
      "outputs": []
    },
    {
      "cell_type": "code",
      "source": [
        "print(torch.__version__)"
      ],
      "metadata": {
        "colab": {
          "base_uri": "https://localhost:8080/"
        },
        "id": "Lmt3ZckXAm1z",
        "outputId": "c890a2da-ccec-4753-fd13-df55f0a65138"
      },
      "execution_count": 6,
      "outputs": [
        {
          "output_type": "stream",
          "name": "stdout",
          "text": [
            "1.10.0+cu111\n"
          ]
        }
      ]
    },
    {
      "cell_type": "code",
      "source": [
        "a = torch.ones(500)\n",
        "b = torch.ones(500)"
      ],
      "metadata": {
        "id": "3CUsh7zNApNV"
      },
      "execution_count": 7,
      "outputs": []
    },
    {
      "cell_type": "code",
      "source": [
        "start = time()\n",
        "c = torch.zeros(500)\n",
        "for i in range(500):\n",
        "  c[i] = a[i] + b[i]\n",
        "print(time()-start)"
      ],
      "metadata": {
        "colab": {
          "base_uri": "https://localhost:8080/"
        },
        "id": "Qc1ong-zA4kM",
        "outputId": "4c0ce67d-d146-4433-9932-87c0dd37f1af"
      },
      "execution_count": 8,
      "outputs": [
        {
          "output_type": "stream",
          "name": "stdout",
          "text": [
            "0.04432821273803711\n"
          ]
        }
      ]
    },
    {
      "cell_type": "code",
      "source": [
        "# 矢量加法\n",
        "start = time()\n",
        "d = a + b\n",
        "print(time()-start)"
      ],
      "metadata": {
        "colab": {
          "base_uri": "https://localhost:8080/"
        },
        "id": "bkmHoc3sBQkd",
        "outputId": "d553e095-aaaf-421a-d289-971bd85e54be"
      },
      "execution_count": 9,
      "outputs": [
        {
          "output_type": "stream",
          "name": "stdout",
          "text": [
            "0.00027108192443847656\n"
          ]
        }
      ]
    },
    {
      "cell_type": "code",
      "source": [
        "# 广播机制\n",
        "a = torch.ones(3)\n",
        "b = 10\n",
        "print(a+b)"
      ],
      "metadata": {
        "colab": {
          "base_uri": "https://localhost:8080/"
        },
        "id": "gwsD4xcZBZV1",
        "outputId": "54582af9-a09c-45a3-e27a-32e12e2be097"
      },
      "execution_count": 10,
      "outputs": [
        {
          "output_type": "stream",
          "name": "stdout",
          "text": [
            "tensor([11., 11., 11.])\n"
          ]
        }
      ]
    },
    {
      "cell_type": "code",
      "source": [
        "% matplotlib inline\n",
        "import torch\n",
        "from IPython import display\n",
        "from matplotlib import pyplot as plt\n",
        "import numpy as np\n",
        "import random"
      ],
      "metadata": {
        "id": "VJsCfUmUBrDT"
      },
      "execution_count": 11,
      "outputs": []
    },
    {
      "cell_type": "code",
      "source": [
        "print(torch.__version__)"
      ],
      "metadata": {
        "id": "LrJr-1PRB8Vz"
      },
      "execution_count": null,
      "outputs": []
    },
    {
      "cell_type": "code",
      "source": [
        "# 生成数据集\n",
        "num_inputs = 2\n",
        "num_examples = 1000\n",
        "true_w = [2,-3.4]\n",
        "true_b = 4.2\n",
        "features = torch.randn(num_examples,num_inputs,dtype=torch.float32)\n",
        "labels = true_w[0] * features[:,0] + true_w[1] * features[:,1] +true_b\n",
        "labels += torch.tensor(np.random.normal(0,0.01,size=labels.size()),dtype=torch.float32)"
      ],
      "metadata": {
        "id": "iKwipJRGCAVk"
      },
      "execution_count": 14,
      "outputs": []
    },
    {
      "cell_type": "code",
      "source": [
        "print(features[0],labels[0])\n"
      ],
      "metadata": {
        "colab": {
          "base_uri": "https://localhost:8080/"
        },
        "id": "Xu6ARnFrDBJ2",
        "outputId": "75944661-9596-4941-d2a2-6ee0182282cb"
      },
      "execution_count": 15,
      "outputs": [
        {
          "output_type": "stream",
          "name": "stdout",
          "text": [
            "tensor([0.1385, 0.7224]) tensor(2.0151)\n"
          ]
        }
      ]
    },
    {
      "cell_type": "code",
      "source": [
        "def use_svg_display():\n",
        "  display.set_matplotlib_fromats('svg')\n"
      ],
      "metadata": {
        "id": "d8b-06WLDEnc"
      },
      "execution_count": 16,
      "outputs": []
    },
    {
      "cell_type": "code",
      "source": [
        "def set_figsize(figsize=(3.5,2.5)):\n",
        "  use_svg_display()\n",
        "  plt.rcParams['figure.figsize'] = figsize"
      ],
      "metadata": {
        "id": "uLV9k8c8DZXD"
      },
      "execution_count": 17,
      "outputs": []
    },
    {
      "cell_type": "code",
      "source": [
        "# 本函数已保存在d2lzh包中方便以后使用\n",
        "def data_iter(batch_size, features, labels):\n",
        "    num_examples = len(features)\n",
        "    indices = list(range(num_examples))\n",
        "    random.shuffle(indices)  # 样本的读取顺序是随机的\n",
        "    for i in range(0, num_examples, batch_size):\n",
        "        j = torch.LongTensor(indices[i: min(i + batch_size, num_examples)]) # 最后一次可能不足一个batch\n",
        "        yield  features.index_select(0, j), labels.index_select(0, j)"
      ],
      "metadata": {
        "id": "6MV-b2tCDrCs"
      },
      "execution_count": 18,
      "outputs": []
    },
    {
      "cell_type": "code",
      "source": [
        "batch_size = 10\n",
        "\n",
        "for X, y in data_iter(batch_size, features, labels):\n",
        "    print(X, '\\n', y)\n",
        "    break"
      ],
      "metadata": {
        "colab": {
          "base_uri": "https://localhost:8080/"
        },
        "id": "q1-p08pWDulq",
        "outputId": "e2be6f3b-fe41-4fdb-a8d3-f2fed6b4c4f5"
      },
      "execution_count": 19,
      "outputs": [
        {
          "output_type": "stream",
          "name": "stdout",
          "text": [
            "tensor([[-1.4507, -0.0407],\n",
            "        [ 0.3160,  1.1521],\n",
            "        [-0.3605,  1.6033],\n",
            "        [-0.7852,  0.0741],\n",
            "        [-1.0097, -2.7993],\n",
            "        [ 0.9157, -1.4110],\n",
            "        [-1.8243,  0.8907],\n",
            "        [-0.6469, -0.1665],\n",
            "        [ 0.3551, -0.2741],\n",
            "        [ 1.1066,  1.1821]]) \n",
            " tensor([ 1.4562,  0.9248, -1.9709,  2.3881, 11.7059, 10.8299, -2.4678,  3.4698,\n",
            "         5.8183,  2.3984])\n"
          ]
        }
      ]
    },
    {
      "cell_type": "code",
      "source": [
        "# 初始化模型参数\n",
        "w = torch.tensor(np.random.normal(0, 0.01, (num_inputs, 1)), dtype=torch.float32)\n",
        "b = torch.zeros(1, dtype=torch.float32)"
      ],
      "metadata": {
        "id": "BIZMFv3LDyIU"
      },
      "execution_count": 20,
      "outputs": []
    },
    {
      "cell_type": "code",
      "source": [
        "w.requires_grad_(requires_grad=True)\n",
        "b.requires_grad_(requires_grad=True) "
      ],
      "metadata": {
        "colab": {
          "base_uri": "https://localhost:8080/"
        },
        "id": "cBmzs8TrD1SN",
        "outputId": "49037014-e16b-46ba-b9ce-6257cb490e86"
      },
      "execution_count": 21,
      "outputs": [
        {
          "output_type": "execute_result",
          "data": {
            "text/plain": [
              "tensor([0.], requires_grad=True)"
            ]
          },
          "metadata": {},
          "execution_count": 21
        }
      ]
    },
    {
      "cell_type": "code",
      "source": [
        "# 定义模型\n",
        "def linreg(X, w, b):  # 本函数已保存在d2lzh包中方便以后使用\n",
        "    return torch.mm(X, w) + b"
      ],
      "metadata": {
        "id": "09CjU9tZD8Ws"
      },
      "execution_count": 22,
      "outputs": []
    },
    {
      "cell_type": "code",
      "source": [
        "# 定义损失函数\n",
        "def squared_loss(y_hat, y):  # 本函数已保存在pytorch_d2lzh包中方便以后使用\n",
        "    return (y_hat - y.view(y_hat.size())) ** 2 / 2"
      ],
      "metadata": {
        "id": "e8pHH-gKECwL"
      },
      "execution_count": 23,
      "outputs": []
    },
    {
      "cell_type": "code",
      "source": [
        "# 定义优化算法\n",
        "def sgd(params, lr, batch_size):  # 本函数已保存在d2lzh_pytorch包中方便以后使用\n",
        "    for param in params:\n",
        "        param.data -= lr * param.grad / batch_size # 注意这里更改param时用的param.data"
      ],
      "metadata": {
        "id": "lr_bN1dsEIV0"
      },
      "execution_count": 24,
      "outputs": []
    },
    {
      "cell_type": "code",
      "source": [
        "# 训练模型\n",
        "lr = 0.03\n",
        "num_epochs = 3\n",
        "net = linreg\n",
        "loss = squared_loss\n",
        "\n",
        "for epoch in range(num_epochs):  # 训练模型一共需要num_epochs个迭代周期\n",
        "    # 在每一个迭代周期中，会使用训练数据集中所有样本一次（假设样本数能够被批量大小整除）。X\n",
        "    # 和y分别是小批量样本的特征和标签\n",
        "    for X, y in data_iter(batch_size, features, labels):\n",
        "        l = loss(net(X, w, b), y).sum()  # l是有关小批量X和y的损失\n",
        "        l.backward()  # 小批量的损失对模型参数求梯度\n",
        "        sgd([w, b], lr, batch_size)  # 使用小批量随机梯度下降迭代模型参数\n",
        "        \n",
        "        # 不要忘了梯度清零\n",
        "        w.grad.data.zero_()\n",
        "        b.grad.data.zero_()\n",
        "    train_l = loss(net(features, w, b), labels)\n",
        "    print('epoch %d, loss %f' % (epoch + 1, train_l.mean().item()))"
      ],
      "metadata": {
        "colab": {
          "base_uri": "https://localhost:8080/"
        },
        "id": "pLZjPDQuENuL",
        "outputId": "74730fca-ac50-4fdd-b523-c6fdb129f163"
      },
      "execution_count": 25,
      "outputs": [
        {
          "output_type": "stream",
          "name": "stdout",
          "text": [
            "epoch 1, loss 0.041779\n",
            "epoch 2, loss 0.000171\n",
            "epoch 3, loss 0.000055\n"
          ]
        }
      ]
    },
    {
      "cell_type": "code",
      "source": [
        "print(true_w, '\\n', w)\n",
        "print(true_b, '\\n', b)"
      ],
      "metadata": {
        "colab": {
          "base_uri": "https://localhost:8080/"
        },
        "id": "a3YXoMeeEakz",
        "outputId": "e483aedb-f90a-4d78-9709-bcabc5c764a8"
      },
      "execution_count": 26,
      "outputs": [
        {
          "output_type": "stream",
          "name": "stdout",
          "text": [
            "[2, -3.4] \n",
            " tensor([[ 2.0002],\n",
            "        [-3.3996]], requires_grad=True)\n",
            "4.2 \n",
            " tensor([4.1995], requires_grad=True)\n"
          ]
        }
      ]
    }
  ]
}