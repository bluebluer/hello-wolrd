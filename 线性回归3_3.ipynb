{
  "nbformat": 4,
  "nbformat_minor": 0,
  "metadata": {
    "colab": {
      "name": "线性回归3.3.ipynb",
      "provenance": [],
      "authorship_tag": "ABX9TyMLxClitljAF/fKwYczCEt7",
      "include_colab_link": true
    },
    "kernelspec": {
      "name": "python3",
      "display_name": "Python 3"
    },
    "language_info": {
      "name": "python"
    }
  },
  "cells": [
    {
      "cell_type": "markdown",
      "metadata": {
        "id": "view-in-github",
        "colab_type": "text"
      },
      "source": [
        "<a href=\"https://colab.research.google.com/github/bluebluer/hello-wolrd/blob/master/%E7%BA%BF%E6%80%A7%E5%9B%9E%E5%BD%923_3.ipynb\" target=\"_parent\"><img src=\"https://colab.research.google.com/assets/colab-badge.svg\" alt=\"Open In Colab\"/></a>"
      ]
    },
    {
      "cell_type": "code",
      "execution_count": null,
      "metadata": {
        "id": "oLg2Jd-VFKUQ"
      },
      "outputs": [],
      "source": [
        "! pip install torch"
      ]
    },
    {
      "cell_type": "code",
      "source": [
        "import torch\n",
        "from torch import nn\n",
        "import numpy as np\n",
        "torch.manual_seed(1)\n",
        "\n",
        "print(torch.__version__)\n",
        "torch.set_default_tensor_type('torch.FloatTensor')"
      ],
      "metadata": {
        "id": "LT4II4v1Fka8"
      },
      "execution_count": null,
      "outputs": []
    },
    {
      "cell_type": "code",
      "source": [
        "# 生成数据集\n",
        "num_inputs = 2\n",
        "num_examples = 1000\n",
        "true_w = [2,3.4]\n",
        "true_b = 4.2\n",
        "features = torch.tensor(np.random.normal(0,1,(num_examples,num_inputs)),dtype=torch.float32)\n",
        "# 随机生成1000个数据\n",
        "labels = true_w[0] * features[:,0] + true_w[1]* features[:,1] + true_b\n",
        "# 数据添加噪音\n",
        "labels += torch.tensor(np.random.normal(0,0.01,size=labels.size()),dtype=torch.float32)"
      ],
      "metadata": {
        "id": "W_eFODCEFkcA"
      },
      "execution_count": 3,
      "outputs": []
    },
    {
      "cell_type": "code",
      "source": [
        "# 读取数据\n",
        "import torch.utils.data as Data\n",
        "# 每次经过以下次数update一次参数\n",
        "batch_size = 10\n",
        "\n",
        "# 将训练数据的特征和标签组合\n",
        "dataset = Data.TensorDataset(features, labels)\n",
        "\n",
        "# 把 dataset 放入 DataLoader\n",
        "data_iter = Data.DataLoader(\n",
        "    dataset=dataset,      # torch TensorDataset format\n",
        "    batch_size=batch_size,      # mini batch size\n",
        "    shuffle=True,               # 要不要打乱数据 (打乱比较好)\n",
        "    num_workers=2,              # 多线程来读数据\n",
        ")"
      ],
      "metadata": {
        "id": "bfqFpKSaGv7c"
      },
      "execution_count": 4,
      "outputs": []
    },
    {
      "cell_type": "code",
      "source": [
        "for X, y in data_iter:\n",
        "    print(X, '\\n', y)\n",
        "    break"
      ],
      "metadata": {
        "id": "JR-kmHpwHWr1"
      },
      "execution_count": null,
      "outputs": []
    },
    {
      "cell_type": "code",
      "source": [
        "# 定义模型\n",
        "class LinearNet(nn.Module):\n",
        "    def __init__(self, n_feature):\n",
        "        super(LinearNet, self).__init__()\n",
        "        self.linear = nn.Linear(n_feature, 1)\n",
        "\n",
        "    def forward(self, x):\n",
        "        y = self.linear(x)\n",
        "        return y\n",
        "    \n",
        "net = LinearNet(num_inputs)\n",
        "print(net) # 使用print可以打印出网络的结构"
      ],
      "metadata": {
        "colab": {
          "base_uri": "https://localhost:8080/"
        },
        "id": "eVIK5fbSHsmz",
        "outputId": "0a54f563-2251-4304-ce6b-14c6065abf67"
      },
      "execution_count": 7,
      "outputs": [
        {
          "output_type": "stream",
          "name": "stdout",
          "text": [
            "LinearNet(\n",
            "  (linear): Linear(in_features=2, out_features=1, bias=True)\n",
            ")\n"
          ]
        }
      ]
    },
    {
      "cell_type": "code",
      "source": [
        "# 写法一\n",
        "net = nn.Sequential(\n",
        "    nn.Linear(num_inputs, 1)\n",
        "    # 此处还可以传入其他层\n",
        "    )\n",
        "\n",
        "# 写法二\n",
        "net = nn.Sequential()\n",
        "net.add_module('linear', nn.Linear(num_inputs, 1))\n",
        "# net.add_module ......\n",
        "\n",
        "# 写法三\n",
        "from collections import OrderedDict\n",
        "net = nn.Sequential(OrderedDict([\n",
        "          ('linear', nn.Linear(num_inputs, 1))\n",
        "          # ......\n",
        "        ]))\n",
        "\n",
        "print(net)\n",
        "print(net[0])"
      ],
      "metadata": {
        "colab": {
          "base_uri": "https://localhost:8080/"
        },
        "id": "kzzxW5XpIWij",
        "outputId": "b6925c9a-4ba2-4e3f-d754-1727da8007fd"
      },
      "execution_count": 10,
      "outputs": [
        {
          "output_type": "stream",
          "name": "stdout",
          "text": [
            "Sequential(\n",
            "  (linear): Linear(in_features=2, out_features=1, bias=True)\n",
            ")\n",
            "Linear(in_features=2, out_features=1, bias=True)\n"
          ]
        }
      ]
    },
    {
      "cell_type": "code",
      "source": [
        "# 初始化模型参数\n",
        "from torch.nn import init\n",
        "\n",
        "init.normal_(net[0].weight, mean=0.0, std=0.01)\n",
        "init.constant_(net[0].bias, val=0.0)"
      ],
      "metadata": {
        "colab": {
          "base_uri": "https://localhost:8080/"
        },
        "id": "o1JDvg9TXMOM",
        "outputId": "f579ca5b-1385-46e6-d990-d365c2940de8"
      },
      "execution_count": 11,
      "outputs": [
        {
          "output_type": "execute_result",
          "data": {
            "text/plain": [
              "Parameter containing:\n",
              "tensor([0.], requires_grad=True)"
            ]
          },
          "metadata": {},
          "execution_count": 11
        }
      ]
    },
    {
      "cell_type": "code",
      "source": [
        "# 定义损失函数\n",
        "loss = nn.MSELoss()"
      ],
      "metadata": {
        "id": "FzbI6g_zXYCj"
      },
      "execution_count": 13,
      "outputs": []
    },
    {
      "cell_type": "code",
      "source": [
        "# 定义优化算法\n",
        "import torch.optim as optim\n",
        "\n",
        "optimizer = optim.SGD(net.parameters(), lr=0.03)\n",
        "print(optimizer)"
      ],
      "metadata": {
        "colab": {
          "base_uri": "https://localhost:8080/"
        },
        "id": "GQlyU-enXckU",
        "outputId": "deb67821-0d74-4ea6-b939-b66da4dd33e0"
      },
      "execution_count": 12,
      "outputs": [
        {
          "output_type": "stream",
          "name": "stdout",
          "text": [
            "SGD (\n",
            "Parameter Group 0\n",
            "    dampening: 0\n",
            "    lr: 0.03\n",
            "    momentum: 0\n",
            "    nesterov: False\n",
            "    weight_decay: 0\n",
            ")\n"
          ]
        }
      ]
    },
    {
      "cell_type": "code",
      "source": [
        "# 训练模型\n",
        "num_epochs = 10\n",
        "for epoch in range(1, num_epochs + 1):\n",
        "    for X, y in data_iter:\n",
        "        output = net(X)\n",
        "        l = loss(output, y.view(-1, 1))\n",
        "        optimizer.zero_grad() # 梯度清零，等价于net.zero_grad()\n",
        "        l.backward()\n",
        "        optimizer.step()\n",
        "    print('epoch %d, loss: %f' % (epoch, l.item()))"
      ],
      "metadata": {
        "colab": {
          "base_uri": "https://localhost:8080/"
        },
        "id": "pPHynl4CXl9L",
        "outputId": "7bf57ede-a466-4be5-ce6b-b94f98404f5f"
      },
      "execution_count": 14,
      "outputs": [
        {
          "output_type": "stream",
          "name": "stdout",
          "text": [
            "epoch 1, loss: 0.000147\n",
            "epoch 2, loss: 0.000069\n",
            "epoch 3, loss: 0.000046\n",
            "epoch 4, loss: 0.000054\n",
            "epoch 5, loss: 0.000054\n",
            "epoch 6, loss: 0.000107\n",
            "epoch 7, loss: 0.000068\n",
            "epoch 8, loss: 0.000140\n",
            "epoch 9, loss: 0.000050\n",
            "epoch 10, loss: 0.000145\n"
          ]
        }
      ]
    },
    {
      "cell_type": "code",
      "source": [
        "dense = net[0]\n",
        "print(true_w, dense.weight.data)\n",
        "print(true_b, dense.bias.data)"
      ],
      "metadata": {
        "colab": {
          "base_uri": "https://localhost:8080/"
        },
        "id": "wrmVUqW7Xs5N",
        "outputId": "58ac63c9-37df-4f25-e9c2-222a61f2a4a6"
      },
      "execution_count": 15,
      "outputs": [
        {
          "output_type": "stream",
          "name": "stdout",
          "text": [
            "[2, 3.4] tensor([[1.9999, 3.3997]])\n",
            "4.2 tensor([4.2002])\n"
          ]
        }
      ]
    },
    {
      "cell_type": "markdown",
      "source": [
        ""
      ],
      "metadata": {
        "id": "mReFSawgFnaf"
      }
    }
  ]
}