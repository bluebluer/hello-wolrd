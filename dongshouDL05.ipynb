{
  "nbformat": 4,
  "nbformat_minor": 0,
  "metadata": {
    "colab": {
      "name": "dongshouDL05.ipynb",
      "provenance": [],
      "authorship_tag": "ABX9TyP761PZJw+UXIdeW+LbXNQQ",
      "include_colab_link": true
    },
    "kernelspec": {
      "name": "python3",
      "display_name": "Python 3"
    },
    "language_info": {
      "name": "python"
    }
  },
  "cells": [
    {
      "cell_type": "markdown",
      "metadata": {
        "id": "view-in-github",
        "colab_type": "text"
      },
      "source": [
        "<a href=\"https://colab.research.google.com/github/bluebluer/hello-wolrd/blob/master/dongshouDL05.ipynb\" target=\"_parent\"><img src=\"https://colab.research.google.com/assets/colab-badge.svg\" alt=\"Open In Colab\"/></a>"
      ]
    },
    {
      "cell_type": "code",
      "execution_count": 2,
      "metadata": {
        "colab": {
          "base_uri": "https://localhost:8080/"
        },
        "id": "XH8Iey50Ei6l",
        "outputId": "a77b7218-b381-405f-b832-dc9f115a6286"
      },
      "outputs": [
        {
          "output_type": "execute_result",
          "data": {
            "text/plain": [
              "(tensor([5.]), tensor([1.]))"
            ]
          },
          "metadata": {},
          "execution_count": 2
        }
      ],
      "source": [
        "import torch\n",
        "x = torch.tensor([3.0])\n",
        "y = torch.tensor([2.0])\n",
        "x+y ,x-y"
      ]
    },
    {
      "cell_type": "code",
      "source": [
        "A = torch.arange(20).reshape(5,4)\n",
        "A"
      ],
      "metadata": {
        "colab": {
          "base_uri": "https://localhost:8080/"
        },
        "id": "FZSp-lrXFRpa",
        "outputId": "c3d0cb87-f8ac-47c0-e1d0-0ea404eabd45"
      },
      "execution_count": 3,
      "outputs": [
        {
          "output_type": "execute_result",
          "data": {
            "text/plain": [
              "tensor([[ 0,  1,  2,  3],\n",
              "        [ 4,  5,  6,  7],\n",
              "        [ 8,  9, 10, 11],\n",
              "        [12, 13, 14, 15],\n",
              "        [16, 17, 18, 19]])"
            ]
          },
          "metadata": {},
          "execution_count": 3
        }
      ]
    },
    {
      "cell_type": "code",
      "source": [
        "# A的转置\n",
        "A.T"
      ],
      "metadata": {
        "colab": {
          "base_uri": "https://localhost:8080/"
        },
        "id": "mREvUv0GFhod",
        "outputId": "ecf56aac-636a-4f6d-e5fb-0fd86d01c701"
      },
      "execution_count": 4,
      "outputs": [
        {
          "output_type": "execute_result",
          "data": {
            "text/plain": [
              "tensor([[ 0,  4,  8, 12, 16],\n",
              "        [ 1,  5,  9, 13, 17],\n",
              "        [ 2,  6, 10, 14, 18],\n",
              "        [ 3,  7, 11, 15, 19]])"
            ]
          },
          "metadata": {},
          "execution_count": 4
        }
      ]
    },
    {
      "cell_type": "code",
      "source": [
        "A = torch.arange(20,dtype=torch.float32).reshape(5,4)\n",
        "# 通过分配新的内存，将一个副本分给B\n",
        "B = A.clone()\n",
        "A,A+B"
      ],
      "metadata": {
        "colab": {
          "base_uri": "https://localhost:8080/"
        },
        "id": "KpnSfVO4Fi9e",
        "outputId": "cb30c3e3-03eb-4ab0-99fa-c48abadd8fab"
      },
      "execution_count": 5,
      "outputs": [
        {
          "output_type": "execute_result",
          "data": {
            "text/plain": [
              "(tensor([[ 0.,  1.,  2.,  3.],\n",
              "         [ 4.,  5.,  6.,  7.],\n",
              "         [ 8.,  9., 10., 11.],\n",
              "         [12., 13., 14., 15.],\n",
              "         [16., 17., 18., 19.]]), tensor([[ 0.,  2.,  4.,  6.],\n",
              "         [ 8., 10., 12., 14.],\n",
              "         [16., 18., 20., 22.],\n",
              "         [24., 26., 28., 30.],\n",
              "         [32., 34., 36., 38.]]))"
            ]
          },
          "metadata": {},
          "execution_count": 5
        }
      ]
    },
    {
      "cell_type": "code",
      "source": [
        "# 两个元素按元素乘法称为哈达玛积\n",
        "A * B"
      ],
      "metadata": {
        "colab": {
          "base_uri": "https://localhost:8080/"
        },
        "id": "jZ_tbWn-GqlH",
        "outputId": "9e1e3d86-f993-4f05-ded3-ecc45cd7a87b"
      },
      "execution_count": 6,
      "outputs": [
        {
          "output_type": "execute_result",
          "data": {
            "text/plain": [
              "tensor([[  0.,   1.,   4.,   9.],\n",
              "        [ 16.,  25.,  36.,  49.],\n",
              "        [ 64.,  81., 100., 121.],\n",
              "        [144., 169., 196., 225.],\n",
              "        [256., 289., 324., 361.]])"
            ]
          },
          "metadata": {},
          "execution_count": 6
        }
      ]
    },
    {
      "cell_type": "code",
      "source": [
        "a = 2\n",
        "X = torch.arange(24).reshape(2,3,4)\n",
        "a+X,(a * X).shape"
      ],
      "metadata": {
        "colab": {
          "base_uri": "https://localhost:8080/"
        },
        "id": "kqwNlsQAG_fE",
        "outputId": "a8e426ee-9d29-44b8-d46b-df6ecc6c7eea"
      },
      "execution_count": 7,
      "outputs": [
        {
          "output_type": "execute_result",
          "data": {
            "text/plain": [
              "(tensor([[[ 2,  3,  4,  5],\n",
              "          [ 6,  7,  8,  9],\n",
              "          [10, 11, 12, 13]],\n",
              " \n",
              "         [[14, 15, 16, 17],\n",
              "          [18, 19, 20, 21],\n",
              "          [22, 23, 24, 25]]]), torch.Size([2, 3, 4]))"
            ]
          },
          "metadata": {},
          "execution_count": 7
        }
      ]
    },
    {
      "cell_type": "code",
      "source": [
        "a * X "
      ],
      "metadata": {
        "colab": {
          "base_uri": "https://localhost:8080/"
        },
        "id": "PBgQfCB2HLhd",
        "outputId": "ab3f1f6c-7b8d-41ae-ee4b-69e233f68dd5"
      },
      "execution_count": 8,
      "outputs": [
        {
          "output_type": "execute_result",
          "data": {
            "text/plain": [
              "tensor([[[ 0,  2,  4,  6],\n",
              "         [ 8, 10, 12, 14],\n",
              "         [16, 18, 20, 22]],\n",
              "\n",
              "        [[24, 26, 28, 30],\n",
              "         [32, 34, 36, 38],\n",
              "         [40, 42, 44, 46]]])"
            ]
          },
          "metadata": {},
          "execution_count": 8
        }
      ]
    },
    {
      "cell_type": "code",
      "source": [
        "# 计算其元素的和\n",
        "x = torch.arange(4,dtype=torch.float32)\n",
        "x,x.sum()"
      ],
      "metadata": {
        "colab": {
          "base_uri": "https://localhost:8080/"
        },
        "id": "PBKy8pWUHVkX",
        "outputId": "0b6356be-be9a-4672-9e09-0c2ca11ce863"
      },
      "execution_count": 12,
      "outputs": [
        {
          "output_type": "execute_result",
          "data": {
            "text/plain": [
              "(tensor([0., 1., 2., 3.]), tensor(6.))"
            ]
          },
          "metadata": {},
          "execution_count": 12
        }
      ]
    },
    {
      "cell_type": "code",
      "source": [
        "# 表示任意形状张量的元素和\n",
        "A = torch.arange(20*2,dtype=torch.float32).reshape(2,5,4)\n",
        "A.shape,A.sum()"
      ],
      "metadata": {
        "colab": {
          "base_uri": "https://localhost:8080/"
        },
        "id": "yj565nXWH2Yd",
        "outputId": "eb55b34c-7b2f-4ade-fbfe-39f81e20d3e9"
      },
      "execution_count": 18,
      "outputs": [
        {
          "output_type": "execute_result",
          "data": {
            "text/plain": [
              "(torch.Size([2, 5, 4]), tensor(780.))"
            ]
          },
          "metadata": {},
          "execution_count": 18
        }
      ]
    },
    {
      "cell_type": "code",
      "source": [
        "A_sum_axis0 = A.sum(axis=0)\n",
        "A_sum_axis0,A_sum_axis0.shape"
      ],
      "metadata": {
        "colab": {
          "base_uri": "https://localhost:8080/"
        },
        "id": "xEAeWLKpHsvE",
        "outputId": "d383515c-ca16-4853-80e9-ec0bf7177a86"
      },
      "execution_count": 14,
      "outputs": [
        {
          "output_type": "execute_result",
          "data": {
            "text/plain": [
              "(tensor([[20, 22, 24, 26],\n",
              "         [28, 30, 32, 34],\n",
              "         [36, 38, 40, 42],\n",
              "         [44, 46, 48, 50],\n",
              "         [52, 54, 56, 58]]), torch.Size([5, 4]))"
            ]
          },
          "metadata": {},
          "execution_count": 14
        }
      ]
    },
    {
      "cell_type": "code",
      "source": [
        "\n"
      ],
      "metadata": {
        "id": "PtNEK-X7IT6G"
      },
      "execution_count": null,
      "outputs": []
    },
    {
      "cell_type": "code",
      "source": [
        "# 两个维度求和\n",
        "A.sum(axis=[0,1])"
      ],
      "metadata": {
        "colab": {
          "base_uri": "https://localhost:8080/"
        },
        "id": "k5LsD6fkHnRm",
        "outputId": "93ac3f45-d824-4ef6-f741-f990f059a1af"
      },
      "execution_count": 15,
      "outputs": [
        {
          "output_type": "execute_result",
          "data": {
            "text/plain": [
              "tensor([180, 190, 200, 210])"
            ]
          },
          "metadata": {},
          "execution_count": 15
        }
      ]
    },
    {
      "cell_type": "code",
      "source": [
        "# 与求和相关的量是平均值\n",
        "A.mean(),A.sum()/A.numel()"
      ],
      "metadata": {
        "colab": {
          "base_uri": "https://localhost:8080/"
        },
        "id": "SIjNVu9yIvis",
        "outputId": "237a32a1-f154-49e8-cfda-8549a4cfb0f3"
      },
      "execution_count": 20,
      "outputs": [
        {
          "output_type": "execute_result",
          "data": {
            "text/plain": [
              "(tensor(19.5000), tensor(19.5000))"
            ]
          },
          "metadata": {},
          "execution_count": 20
        }
      ]
    },
    {
      "cell_type": "code",
      "source": [
        "A.mean(axis=0),A.sum(axis=0)/A.shape[0]"
      ],
      "metadata": {
        "colab": {
          "base_uri": "https://localhost:8080/"
        },
        "id": "l3Dymi2RJTkk",
        "outputId": "5b6dd06d-573c-4077-99a6-cc8bc3ca95e9"
      },
      "execution_count": 21,
      "outputs": [
        {
          "output_type": "execute_result",
          "data": {
            "text/plain": [
              "(tensor([[10., 11., 12., 13.],\n",
              "         [14., 15., 16., 17.],\n",
              "         [18., 19., 20., 21.],\n",
              "         [22., 23., 24., 25.],\n",
              "         [26., 27., 28., 29.]]), tensor([[10., 11., 12., 13.],\n",
              "         [14., 15., 16., 17.],\n",
              "         [18., 19., 20., 21.],\n",
              "         [22., 23., 24., 25.],\n",
              "         [26., 27., 28., 29.]]))"
            ]
          },
          "metadata": {},
          "execution_count": 21
        }
      ]
    },
    {
      "cell_type": "code",
      "source": [
        "# 计算和或均值时保持轴数不变\n",
        "sum_A = A.sum(axis=1,keepdims=True)\n",
        "sum_A"
      ],
      "metadata": {
        "colab": {
          "base_uri": "https://localhost:8080/"
        },
        "id": "DMsz88W7Jw9d",
        "outputId": "1ec217ca-8504-4ffc-d369-71ac36c2c5a8"
      },
      "execution_count": 22,
      "outputs": [
        {
          "output_type": "execute_result",
          "data": {
            "text/plain": [
              "tensor([[[ 40.,  45.,  50.,  55.]],\n",
              "\n",
              "        [[140., 145., 150., 155.]]])"
            ]
          },
          "metadata": {},
          "execution_count": 22
        }
      ]
    },
    {
      "cell_type": "code",
      "source": [
        "# 通过广播将A/sum_A\n",
        "A / sum_A"
      ],
      "metadata": {
        "colab": {
          "base_uri": "https://localhost:8080/"
        },
        "id": "NyDsbEmGKKUX",
        "outputId": "f8d65d1e-8522-4787-b1be-aa69f78a4fa7"
      },
      "execution_count": 23,
      "outputs": [
        {
          "output_type": "execute_result",
          "data": {
            "text/plain": [
              "tensor([[[0.0000, 0.0222, 0.0400, 0.0545],\n",
              "         [0.1000, 0.1111, 0.1200, 0.1273],\n",
              "         [0.2000, 0.2000, 0.2000, 0.2000],\n",
              "         [0.3000, 0.2889, 0.2800, 0.2727],\n",
              "         [0.4000, 0.3778, 0.3600, 0.3455]],\n",
              "\n",
              "        [[0.1429, 0.1448, 0.1467, 0.1484],\n",
              "         [0.1714, 0.1724, 0.1733, 0.1742],\n",
              "         [0.2000, 0.2000, 0.2000, 0.2000],\n",
              "         [0.2286, 0.2276, 0.2267, 0.2258],\n",
              "         [0.2571, 0.2552, 0.2533, 0.2516]]])"
            ]
          },
          "metadata": {},
          "execution_count": 23
        }
      ]
    },
    {
      "cell_type": "code",
      "source": [
        "# 某个轴计算A元素\n",
        "y = torch.ones(4,dtype=torch.float32)\n",
        "x,y,torch.dot(x,y)"
      ],
      "metadata": {
        "colab": {
          "base_uri": "https://localhost:8080/"
        },
        "id": "U282-eybKTNl",
        "outputId": "77a1a22b-19db-4b6b-ef71-10e1c2992dfb"
      },
      "execution_count": 25,
      "outputs": [
        {
          "output_type": "execute_result",
          "data": {
            "text/plain": [
              "(tensor([0., 1., 2., 3.]), tensor([1., 1., 1., 1.]), tensor(6.))"
            ]
          },
          "metadata": {},
          "execution_count": 25
        }
      ]
    },
    {
      "cell_type": "code",
      "source": [
        "# 矩阵向量积\n",
        "A = torch.arange(20,dtype=torch.float32).reshape(5,4)\n",
        "A.shape,x.shape"
      ],
      "metadata": {
        "colab": {
          "base_uri": "https://localhost:8080/"
        },
        "id": "HWYaQHXJKjRd",
        "outputId": "a77061ce-61ef-47ca-9c0c-54b2ae989172"
      },
      "execution_count": 30,
      "outputs": [
        {
          "output_type": "execute_result",
          "data": {
            "text/plain": [
              "(torch.Size([5, 4]), torch.Size([4]))"
            ]
          },
          "metadata": {},
          "execution_count": 30
        }
      ]
    },
    {
      "cell_type": "code",
      "source": [
        "torch.mv(A,x)"
      ],
      "metadata": {
        "colab": {
          "base_uri": "https://localhost:8080/"
        },
        "id": "_YrEGhaeLPx1",
        "outputId": "91579ea2-f79d-4a0a-96a5-d9a579e2a3aa"
      },
      "execution_count": 31,
      "outputs": [
        {
          "output_type": "execute_result",
          "data": {
            "text/plain": [
              "tensor([ 14.,  38.,  62.,  86., 110.])"
            ]
          },
          "metadata": {},
          "execution_count": 31
        }
      ]
    },
    {
      "cell_type": "code",
      "source": [
        "B = torch.ones(4,3)\n",
        "torch.mm(A,B)"
      ],
      "metadata": {
        "colab": {
          "base_uri": "https://localhost:8080/"
        },
        "id": "TANOS2tQK5w2",
        "outputId": "1e6bbb4b-0cdc-4e45-880f-44b11a876275"
      },
      "execution_count": 33,
      "outputs": [
        {
          "output_type": "execute_result",
          "data": {
            "text/plain": [
              "tensor([[ 6.,  6.,  6.],\n",
              "        [22., 22., 22.],\n",
              "        [38., 38., 38.],\n",
              "        [54., 54., 54.],\n",
              "        [70., 70., 70.]])"
            ]
          },
          "metadata": {},
          "execution_count": 33
        }
      ]
    },
    {
      "cell_type": "code",
      "source": [
        "# 2范数\n",
        "# xi 向量元素平方和开根号\n",
        "u = torch.tensor([3.0,-4.0])\n",
        "torch.norm(u)"
      ],
      "metadata": {
        "colab": {
          "base_uri": "https://localhost:8080/"
        },
        "id": "SqXp3IRFLwzd",
        "outputId": "50336c4e-615a-4aea-e2bb-f1ed9c85fc85"
      },
      "execution_count": 35,
      "outputs": [
        {
          "output_type": "execute_result",
          "data": {
            "text/plain": [
              "tensor(5.)"
            ]
          },
          "metadata": {},
          "execution_count": 35
        }
      ]
    },
    {
      "cell_type": "code",
      "source": [
        "# L1 范数，向量元素的绝对值之和\n",
        "torch.abs(u).sum()"
      ],
      "metadata": {
        "colab": {
          "base_uri": "https://localhost:8080/"
        },
        "id": "ru8HJZqJMC_U",
        "outputId": "af171b0c-87ed-4d7a-d9f6-11ba11d9cdc9"
      },
      "execution_count": 36,
      "outputs": [
        {
          "output_type": "execute_result",
          "data": {
            "text/plain": [
              "tensor(7.)"
            ]
          },
          "metadata": {},
          "execution_count": 36
        }
      ]
    },
    {
      "cell_type": "code",
      "source": [
        "# F 范数是矩阵元素的平方和的平方根\n",
        "torch.norm(torch.ones((4,9)))"
      ],
      "metadata": {
        "colab": {
          "base_uri": "https://localhost:8080/"
        },
        "id": "YGShSmkFMfi0",
        "outputId": "c8a8b74d-21ce-40df-c48f-26fbfc39d065"
      },
      "execution_count": 37,
      "outputs": [
        {
          "output_type": "execute_result",
          "data": {
            "text/plain": [
              "tensor(6.)"
            ]
          },
          "metadata": {},
          "execution_count": 37
        }
      ]
    },
    {
      "cell_type": "code",
      "source": [
        "a = torch.ones((2,5,4))\n",
        "a.shape"
      ],
      "metadata": {
        "colab": {
          "base_uri": "https://localhost:8080/"
        },
        "id": "nqgO8dvQNvFZ",
        "outputId": "73a4b57c-1db6-4e04-e3f7-357330fa01ab"
      },
      "execution_count": 38,
      "outputs": [
        {
          "output_type": "execute_result",
          "data": {
            "text/plain": [
              "torch.Size([2, 5, 4])"
            ]
          },
          "metadata": {},
          "execution_count": 38
        }
      ]
    },
    {
      "cell_type": "code",
      "source": [
        "a.sum(axis=(0,2)).shape"
      ],
      "metadata": {
        "colab": {
          "base_uri": "https://localhost:8080/"
        },
        "id": "4LPMVXO0N05t",
        "outputId": "4f0cc9a7-bf47-4e7d-c579-3a6a5cea5df4"
      },
      "execution_count": 39,
      "outputs": [
        {
          "output_type": "execute_result",
          "data": {
            "text/plain": [
              "torch.Size([5])"
            ]
          },
          "metadata": {},
          "execution_count": 39
        }
      ]
    },
    {
      "cell_type": "code",
      "source": [
        "a.sum(axis=1,keepdims=True).shape"
      ],
      "metadata": {
        "colab": {
          "base_uri": "https://localhost:8080/"
        },
        "id": "MPzpPPwzN5a2",
        "outputId": "6f300e11-e194-47a6-9993-2ce4ba8f7c39"
      },
      "execution_count": 40,
      "outputs": [
        {
          "output_type": "execute_result",
          "data": {
            "text/plain": [
              "torch.Size([2, 1, 4])"
            ]
          },
          "metadata": {},
          "execution_count": 40
        }
      ]
    },
    {
      "cell_type": "code",
      "source": [
        ""
      ],
      "metadata": {
        "id": "1Az8BhiiN_TM"
      },
      "execution_count": null,
      "outputs": []
    }
  ]
}