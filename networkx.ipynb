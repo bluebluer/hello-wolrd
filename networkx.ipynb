{
  "nbformat": 4,
  "nbformat_minor": 0,
  "metadata": {
    "colab": {
      "provenance": [],
      "collapsed_sections": [],
      "authorship_tag": "ABX9TyNKifkLbXs3A9bNmfM2SF7M",
      "include_colab_link": true
    },
    "kernelspec": {
      "name": "python3",
      "display_name": "Python 3"
    },
    "language_info": {
      "name": "python"
    }
  },
  "cells": [
    {
      "cell_type": "markdown",
      "metadata": {
        "id": "view-in-github",
        "colab_type": "text"
      },
      "source": [
        "<a href=\"https://colab.research.google.com/github/bluebluer/hello-wolrd/blob/master/networkx.ipynb\" target=\"_parent\"><img src=\"https://colab.research.google.com/assets/colab-badge.svg\" alt=\"Open In Colab\"/></a>"
      ]
    },
    {
      "cell_type": "code",
      "execution_count": 62,
      "metadata": {
        "id": "Dza1Yc0G7VxK"
      },
      "outputs": [],
      "source": [
        "import networkx as nx\n",
        "G = nx.Graph()"
      ]
    },
    {
      "cell_type": "code",
      "source": [
        "#Nodes\n",
        "G.add_node(1)\n",
        "G.add_nodes_from([2,3])\n",
        "G"
      ],
      "metadata": {
        "colab": {
          "base_uri": "https://localhost:8080/"
        },
        "id": "nrFOMYsD7oJ3",
        "outputId": "0b8df000-99fa-4804-ab1b-867c0ba33dc5"
      },
      "execution_count": 63,
      "outputs": [
        {
          "output_type": "execute_result",
          "data": {
            "text/plain": [
              "<networkx.classes.graph.Graph at 0x7fd280c95cd0>"
            ]
          },
          "metadata": {},
          "execution_count": 63
        }
      ]
    },
    {
      "cell_type": "code",
      "source": [
        "G.add_nodes_from([\n",
        "    (4, {\"color\": \"red\"}),\n",
        "    (5, {\"color\": \"green\"}),\n",
        "])"
      ],
      "metadata": {
        "id": "es0euFNs8SVv"
      },
      "execution_count": 64,
      "outputs": []
    },
    {
      "cell_type": "code",
      "source": [
        "H = nx.path_graph(10) # 十个节点 类似于链表\n",
        "G.add_nodes_from(H)"
      ],
      "metadata": {
        "id": "6ALLr4zO8vVZ"
      },
      "execution_count": 65,
      "outputs": []
    },
    {
      "cell_type": "code",
      "source": [
        "#Edges\n",
        "G.add_edge(1,2)\n",
        "e = (2,3)\n",
        "G.add_edge(*e) # unpack edge tuple*\n",
        "G.add_edges_from([(1,2),(1,3)])\n",
        "G.add_edges_from(H.edges)"
      ],
      "metadata": {
        "id": "IDj-EPHL9B2X"
      },
      "execution_count": 66,
      "outputs": []
    },
    {
      "cell_type": "code",
      "source": [
        "G.number_of_nodes()"
      ],
      "metadata": {
        "colab": {
          "base_uri": "https://localhost:8080/"
        },
        "id": "MWcDt5fY96_O",
        "outputId": "2e884033-6536-4bec-ea24-51efa2ade6b7"
      },
      "execution_count": 67,
      "outputs": [
        {
          "output_type": "execute_result",
          "data": {
            "text/plain": [
              "10"
            ]
          },
          "metadata": {},
          "execution_count": 67
        }
      ]
    },
    {
      "cell_type": "code",
      "source": [
        "G.number_of_edges()"
      ],
      "metadata": {
        "colab": {
          "base_uri": "https://localhost:8080/"
        },
        "id": "Sa1A3GdM-GGt",
        "outputId": "90945148-2fcc-434e-bf0f-44eb15d2f4ca"
      },
      "execution_count": 68,
      "outputs": [
        {
          "output_type": "execute_result",
          "data": {
            "text/plain": [
              "10"
            ]
          },
          "metadata": {},
          "execution_count": 68
        }
      ]
    },
    {
      "cell_type": "code",
      "source": [
        "G.clear()\n",
        "G.number_of_nodes()"
      ],
      "metadata": {
        "colab": {
          "base_uri": "https://localhost:8080/"
        },
        "id": "cIcakI3f-I1e",
        "outputId": "390a44b1-6461-4a60-c65f-6946ed1a7915"
      },
      "execution_count": 69,
      "outputs": [
        {
          "output_type": "execute_result",
          "data": {
            "text/plain": [
              "0"
            ]
          },
          "metadata": {},
          "execution_count": 69
        }
      ]
    },
    {
      "cell_type": "code",
      "source": [
        "G.add_edges_from([(1,2),(1,3)])\n",
        "G.number_of_nodes()"
      ],
      "metadata": {
        "colab": {
          "base_uri": "https://localhost:8080/"
        },
        "id": "yu4o46ur-aD-",
        "outputId": "5d5c79ba-f0d9-48d4-89b8-e96412e87157"
      },
      "execution_count": 70,
      "outputs": [
        {
          "output_type": "execute_result",
          "data": {
            "text/plain": [
              "3"
            ]
          },
          "metadata": {},
          "execution_count": 70
        }
      ]
    },
    {
      "cell_type": "code",
      "source": [
        "G.add_node(1)\n",
        "G.add_edge(1,2)\n",
        "G.add_node('spam')\n",
        "G.add_nodes_from('spam') # 加入四个节点 s p a m\n",
        "G.add_edge(3,'m')"
      ],
      "metadata": {
        "id": "QEKa3DV2-lvO"
      },
      "execution_count": 71,
      "outputs": []
    },
    {
      "cell_type": "code",
      "source": [
        "G.number_of_nodes()"
      ],
      "metadata": {
        "colab": {
          "base_uri": "https://localhost:8080/"
        },
        "id": "S6p5uTOz--8d",
        "outputId": "1d9764e0-5250-4177-f84f-98194838a9a8"
      },
      "execution_count": 72,
      "outputs": [
        {
          "output_type": "execute_result",
          "data": {
            "text/plain": [
              "8"
            ]
          },
          "metadata": {},
          "execution_count": 72
        }
      ]
    },
    {
      "cell_type": "code",
      "source": [
        "G.number_of_edges()"
      ],
      "metadata": {
        "colab": {
          "base_uri": "https://localhost:8080/"
        },
        "id": "61PXhpIe_DJN",
        "outputId": "2d42e1a0-64e3-4e19-9d50-2437c691f999"
      },
      "execution_count": 73,
      "outputs": [
        {
          "output_type": "execute_result",
          "data": {
            "text/plain": [
              "3"
            ]
          },
          "metadata": {},
          "execution_count": 73
        }
      ]
    },
    {
      "cell_type": "code",
      "source": [
        "list(G)"
      ],
      "metadata": {
        "colab": {
          "base_uri": "https://localhost:8080/"
        },
        "id": "DBhWdLeN_Nm2",
        "outputId": "f513dec3-8693-4309-a0dd-961d1294f9f9"
      },
      "execution_count": 74,
      "outputs": [
        {
          "output_type": "execute_result",
          "data": {
            "text/plain": [
              "[1, 2, 3, 'spam', 's', 'p', 'a', 'm']"
            ]
          },
          "metadata": {},
          "execution_count": 74
        }
      ]
    },
    {
      "cell_type": "code",
      "source": [
        "# 有向边\n",
        "DG = nx.DiGraph()\n",
        "DG.add_edge(2,1) # 按照2，1顺序 添加节点\n",
        "DG.add_edge(1,3)\n",
        "DG.add_edge(2,4)\n",
        "DG.add_edge(1,2)\n",
        "list(DG)"
      ],
      "metadata": {
        "colab": {
          "base_uri": "https://localhost:8080/"
        },
        "id": "XSa8hDtQ_XTt",
        "outputId": "574ca9e1-913f-401a-fedf-a3651f3fba3e"
      },
      "execution_count": 75,
      "outputs": [
        {
          "output_type": "execute_result",
          "data": {
            "text/plain": [
              "[2, 1, 3, 4]"
            ]
          },
          "metadata": {},
          "execution_count": 75
        }
      ]
    },
    {
      "cell_type": "code",
      "source": [
        "assert list(DG.successors(2)) == [1,4]"
      ],
      "metadata": {
        "id": "drLA7Ec0_x5F"
      },
      "execution_count": 76,
      "outputs": []
    },
    {
      "cell_type": "code",
      "source": [
        "assert list(DG.edges) == [(2,1),(2,4),(1,3),(1,2)]"
      ],
      "metadata": {
        "id": "3cfP9CHWAN7m"
      },
      "execution_count": 77,
      "outputs": []
    },
    {
      "cell_type": "code",
      "source": [
        "# G.nodes,G.edges,G.adj,G.degree\n",
        "print(list(G.nodes))\n",
        "print(list(G.edges))\n",
        "print(list(G.adj[1]))\n",
        "G.degree[1]"
      ],
      "metadata": {
        "colab": {
          "base_uri": "https://localhost:8080/"
        },
        "id": "qsbFeVE2AWq0",
        "outputId": "9ebea55e-7798-4766-acdb-e25f17861106"
      },
      "execution_count": 78,
      "outputs": [
        {
          "output_type": "stream",
          "name": "stdout",
          "text": [
            "[1, 2, 3, 'spam', 's', 'p', 'a', 'm']\n",
            "[(1, 2), (1, 3), (3, 'm')]\n",
            "[2, 3]\n"
          ]
        },
        {
          "output_type": "execute_result",
          "data": {
            "text/plain": [
              "2"
            ]
          },
          "metadata": {},
          "execution_count": 78
        }
      ]
    },
    {
      "cell_type": "code",
      "source": [
        "G.edges([2,'m'])"
      ],
      "metadata": {
        "colab": {
          "base_uri": "https://localhost:8080/"
        },
        "id": "ZGlqJh_EBM8O",
        "outputId": "858bddc1-fef8-46cf-8303-ec5174267a52"
      },
      "execution_count": 79,
      "outputs": [
        {
          "output_type": "execute_result",
          "data": {
            "text/plain": [
              "EdgeDataView([(2, 1), ('m', 3)])"
            ]
          },
          "metadata": {},
          "execution_count": 79
        }
      ]
    },
    {
      "cell_type": "code",
      "source": [
        "G.degree([2,3])"
      ],
      "metadata": {
        "colab": {
          "base_uri": "https://localhost:8080/"
        },
        "id": "HeNMpT4h_eGs",
        "outputId": "293a81bb-8f56-4b4b-9f49-1b0eec05276a"
      },
      "execution_count": 80,
      "outputs": [
        {
          "output_type": "execute_result",
          "data": {
            "text/plain": [
              "DegreeView({2: 1, 3: 2})"
            ]
          },
          "metadata": {},
          "execution_count": 80
        }
      ]
    },
    {
      "cell_type": "code",
      "source": [
        "# Removing elements from a graph \n",
        "# G.remove_node(2)\n",
        "G.remove_nodes_from('spam')\n",
        "list(G.nodes)\n"
      ],
      "metadata": {
        "colab": {
          "base_uri": "https://localhost:8080/"
        },
        "id": "6h1TtLnGCQL1",
        "outputId": "7f9edf17-a58d-4e04-95ea-4b2921d885d0"
      },
      "execution_count": 81,
      "outputs": [
        {
          "output_type": "execute_result",
          "data": {
            "text/plain": [
              "[1, 2, 3, 'spam']"
            ]
          },
          "metadata": {},
          "execution_count": 81
        }
      ]
    },
    {
      "cell_type": "code",
      "source": [
        "print(list(G.edges))\n",
        "G.remove_edge(1,3)\n",
        "list(G.edges)"
      ],
      "metadata": {
        "colab": {
          "base_uri": "https://localhost:8080/"
        },
        "id": "WOzV6ybWClD7",
        "outputId": "82e0e94f-e923-447b-85c8-f5c8bea84765"
      },
      "execution_count": 82,
      "outputs": [
        {
          "output_type": "stream",
          "name": "stdout",
          "text": [
            "[(1, 2), (1, 3)]\n"
          ]
        },
        {
          "output_type": "execute_result",
          "data": {
            "text/plain": [
              "[(1, 2)]"
            ]
          },
          "metadata": {},
          "execution_count": 82
        }
      ]
    },
    {
      "cell_type": "code",
      "source": [
        "list(H.nodes)"
      ],
      "metadata": {
        "colab": {
          "base_uri": "https://localhost:8080/"
        },
        "id": "1cUtlbDrD_cs",
        "outputId": "8eabdd7f-1cf3-4235-ccd5-b12cfdaeb7ca"
      },
      "execution_count": 83,
      "outputs": [
        {
          "output_type": "execute_result",
          "data": {
            "text/plain": [
              "[0, 1, 2, 3, 4, 5, 6, 7, 8, 9]"
            ]
          },
          "metadata": {},
          "execution_count": 83
        }
      ]
    },
    {
      "cell_type": "code",
      "source": [
        "list(H.edges)"
      ],
      "metadata": {
        "colab": {
          "base_uri": "https://localhost:8080/"
        },
        "id": "pvRrAIsxEInU",
        "outputId": "db576992-d66e-4b34-8527-9a7c55be3ad2"
      },
      "execution_count": 84,
      "outputs": [
        {
          "output_type": "execute_result",
          "data": {
            "text/plain": [
              "[(0, 1), (1, 2), (2, 3), (3, 4), (4, 5), (5, 6), (6, 7), (7, 8), (8, 9)]"
            ]
          },
          "metadata": {},
          "execution_count": 84
        }
      ]
    },
    {
      "cell_type": "code",
      "source": [
        "G.add_edge(1,2)\n",
        "list(G.edges)"
      ],
      "metadata": {
        "colab": {
          "base_uri": "https://localhost:8080/"
        },
        "id": "cL16IUjqENBU",
        "outputId": "6ab7e09a-593b-4521-bdb2-be11789276e7"
      },
      "execution_count": 85,
      "outputs": [
        {
          "output_type": "execute_result",
          "data": {
            "text/plain": [
              "[(1, 2)]"
            ]
          },
          "metadata": {},
          "execution_count": 85
        }
      ]
    },
    {
      "cell_type": "code",
      "source": [
        "H=nx.DiGraph(G)\n",
        "list(H.edges())"
      ],
      "metadata": {
        "colab": {
          "base_uri": "https://localhost:8080/"
        },
        "id": "20AY20pMEsFb",
        "outputId": "56e15db5-161e-4e1e-b180-9c46993d9264"
      },
      "execution_count": 86,
      "outputs": [
        {
          "output_type": "execute_result",
          "data": {
            "text/plain": [
              "[(1, 2), (2, 1)]"
            ]
          },
          "metadata": {},
          "execution_count": 86
        }
      ]
    },
    {
      "cell_type": "code",
      "source": [
        "edgelist = [(0,1),(1,2),(2,3)]\n",
        "H=nx.Graph(edgelist) # create a graph from an edge list\n",
        "list(H.edges())"
      ],
      "metadata": {
        "colab": {
          "base_uri": "https://localhost:8080/"
        },
        "id": "kidQ7rA8E58C",
        "outputId": "b71d2960-3c82-47e3-80ef-922c45646ee9"
      },
      "execution_count": 87,
      "outputs": [
        {
          "output_type": "execute_result",
          "data": {
            "text/plain": [
              "[(0, 1), (1, 2), (2, 3)]"
            ]
          },
          "metadata": {},
          "execution_count": 87
        }
      ]
    },
    {
      "cell_type": "code",
      "source": [
        "adjacency_dict = {0:(1,2),1:(0,2),2:(0,1)}\n",
        "H=nx.Graph(adjacency_dict)\n",
        "list(H.edges())\n"
      ],
      "metadata": {
        "colab": {
          "base_uri": "https://localhost:8080/"
        },
        "id": "UcOvPtYVFpkh",
        "outputId": "a9f66967-b518-43c2-80b8-8d61ac37bbc2"
      },
      "execution_count": 88,
      "outputs": [
        {
          "output_type": "execute_result",
          "data": {
            "text/plain": [
              "[(0, 1), (0, 2), (1, 2)]"
            ]
          },
          "metadata": {},
          "execution_count": 88
        }
      ]
    },
    {
      "cell_type": "code",
      "source": [
        "# how to use nodes and edges\n",
        "G = nx.Graph([(1,2,{\"color\":\"yellow\"})])\n",
        "G[1] # 类似于G.adj[1]的操作"
      ],
      "metadata": {
        "colab": {
          "base_uri": "https://localhost:8080/"
        },
        "id": "liWx5CgAGRA6",
        "outputId": "cc6f9e95-fce6-45fe-a4e1-acf875e310ce"
      },
      "execution_count": 89,
      "outputs": [
        {
          "output_type": "execute_result",
          "data": {
            "text/plain": [
              "AtlasView({2: {'color': 'yellow'}})"
            ]
          },
          "metadata": {},
          "execution_count": 89
        }
      ]
    },
    {
      "cell_type": "code",
      "source": [
        "list(G.nodes)"
      ],
      "metadata": {
        "colab": {
          "base_uri": "https://localhost:8080/"
        },
        "id": "qZNpfYuSHZUN",
        "outputId": "7ec1f08e-66bd-4068-d6c0-1a47205f2283"
      },
      "execution_count": 90,
      "outputs": [
        {
          "output_type": "execute_result",
          "data": {
            "text/plain": [
              "[1, 2]"
            ]
          },
          "metadata": {},
          "execution_count": 90
        }
      ]
    },
    {
      "cell_type": "code",
      "source": [
        "list(G.edges)"
      ],
      "metadata": {
        "colab": {
          "base_uri": "https://localhost:8080/"
        },
        "id": "JsD-kARPHyDY",
        "outputId": "18d269c3-b195-4105-8285-f337cc6e1523"
      },
      "execution_count": 91,
      "outputs": [
        {
          "output_type": "execute_result",
          "data": {
            "text/plain": [
              "[(1, 2)]"
            ]
          },
          "metadata": {},
          "execution_count": 91
        }
      ]
    },
    {
      "cell_type": "code",
      "source": [
        "G[1][2]"
      ],
      "metadata": {
        "id": "JOxqT37SIDWC",
        "colab": {
          "base_uri": "https://localhost:8080/"
        },
        "outputId": "64fa3bf3-d31b-4584-c576-24e1b951eecd"
      },
      "execution_count": 92,
      "outputs": [
        {
          "output_type": "execute_result",
          "data": {
            "text/plain": [
              "{'color': 'yellow'}"
            ]
          },
          "metadata": {},
          "execution_count": 92
        }
      ]
    },
    {
      "cell_type": "code",
      "source": [
        "G.add_edge(1,3)\n",
        "G[1][3]['color']='blue'\n",
        "G.edges[1,2]['color']='red'\n",
        "G.edges[1,2]"
      ],
      "metadata": {
        "id": "8S5uzy2dINoa",
        "colab": {
          "base_uri": "https://localhost:8080/"
        },
        "outputId": "fcf76c19-c06c-4856-bc98-2272496630a9"
      },
      "execution_count": 93,
      "outputs": [
        {
          "output_type": "execute_result",
          "data": {
            "text/plain": [
              "{'color': 'red'}"
            ]
          },
          "metadata": {},
          "execution_count": 93
        }
      ]
    },
    {
      "cell_type": "code",
      "source": [
        "# G.adjacency() ,G.adj.items()\n",
        "FG = nx.Graph()\n",
        "FG.add_weighted_edges_from([(1, 2, 0.125), (1, 3, 0.75), (2, 4, 1.2), (3, 4, 0.375)])\n",
        "list(FG.edges)"
      ],
      "metadata": {
        "colab": {
          "base_uri": "https://localhost:8080/"
        },
        "id": "S752tBsgJyPJ",
        "outputId": "c72b5389-056f-44b1-d5be-d8c1cec58dce"
      },
      "execution_count": 95,
      "outputs": [
        {
          "output_type": "execute_result",
          "data": {
            "text/plain": [
              "[(1, 2), (1, 3), (2, 4), (3, 4)]"
            ]
          },
          "metadata": {},
          "execution_count": 95
        }
      ]
    },
    {
      "cell_type": "code",
      "source": [
        "for n,nbrs in FG.adj.items():\n",
        "  for nbr,eattr in nbrs.items():\n",
        "    wt = eattr['weight']\n",
        "    if wt<0.5:print(f\"({n},{nbr},{wt:.3})\")"
      ],
      "metadata": {
        "colab": {
          "base_uri": "https://localhost:8080/"
        },
        "id": "S0IAN5OVKK4Z",
        "outputId": "1e163e45-fe5a-44c7-87a0-64080c90efed"
      },
      "execution_count": 96,
      "outputs": [
        {
          "output_type": "stream",
          "name": "stdout",
          "text": [
            "(1,2,0.125)\n",
            "(2,1,0.125)\n",
            "(3,4,0.375)\n",
            "(4,3,0.375)\n"
          ]
        }
      ]
    },
    {
      "cell_type": "code",
      "source": [
        "for(u,v,wt) in FG.edges.data('weight'):\n",
        "  if wt<0.5:\n",
        "    print(f\"({u},{v},{wt:.3})\")"
      ],
      "metadata": {
        "colab": {
          "base_uri": "https://localhost:8080/"
        },
        "id": "0XeW8ee-K7O4",
        "outputId": "53ec65e6-a640-4c85-dbac-03a9eff8f670"
      },
      "execution_count": 97,
      "outputs": [
        {
          "output_type": "stream",
          "name": "stdout",
          "text": [
            "(1,2,0.125)\n",
            "(3,4,0.375)\n"
          ]
        }
      ]
    },
    {
      "cell_type": "code",
      "source": [
        "# Adding attributes to graphs, nodes, and edges\n",
        "G = nx.Graph(day='Friday')\n",
        "G.graph"
      ],
      "metadata": {
        "colab": {
          "base_uri": "https://localhost:8080/"
        },
        "id": "1HRwdboZMPV4",
        "outputId": "d8fc1895-254b-4b7e-cc1c-4f03bc0ee04f"
      },
      "execution_count": 98,
      "outputs": [
        {
          "output_type": "execute_result",
          "data": {
            "text/plain": [
              "{'day': 'Friday'}"
            ]
          },
          "metadata": {},
          "execution_count": 98
        }
      ]
    },
    {
      "cell_type": "code",
      "source": [
        "G.graph['day'] = 'Monday'\n",
        "G.graph"
      ],
      "metadata": {
        "colab": {
          "base_uri": "https://localhost:8080/"
        },
        "id": "DskgGLJgMb62",
        "outputId": "39d2b6c9-23f0-42c0-f25f-67f5dc8d26ae"
      },
      "execution_count": 99,
      "outputs": [
        {
          "output_type": "execute_result",
          "data": {
            "text/plain": [
              "{'day': 'Monday'}"
            ]
          },
          "metadata": {},
          "execution_count": 99
        }
      ]
    },
    {
      "cell_type": "code",
      "source": [
        "G.add_node(1,time='5pm')\n",
        "G.add_nodes_from([3],time='2pm')\n",
        "G.nodes[1]"
      ],
      "metadata": {
        "colab": {
          "base_uri": "https://localhost:8080/"
        },
        "id": "09YjXzeuMjTH",
        "outputId": "52ae94e0-7d41-4110-c1fa-1afa5a5fbee8"
      },
      "execution_count": 100,
      "outputs": [
        {
          "output_type": "execute_result",
          "data": {
            "text/plain": [
              "{'time': '5pm'}"
            ]
          },
          "metadata": {},
          "execution_count": 100
        }
      ]
    },
    {
      "cell_type": "code",
      "source": [
        "G.nodes[1]['room'] = 714\n",
        "G.nodes.data()"
      ],
      "metadata": {
        "colab": {
          "base_uri": "https://localhost:8080/"
        },
        "id": "mVGtWSOvMzKX",
        "outputId": "f839ec20-b217-4d72-b14f-2e3079f7233d"
      },
      "execution_count": 101,
      "outputs": [
        {
          "output_type": "execute_result",
          "data": {
            "text/plain": [
              "NodeDataView({1: {'time': '5pm', 'room': 714}, 3: {'time': '2pm'}})"
            ]
          },
          "metadata": {},
          "execution_count": 101
        }
      ]
    },
    {
      "cell_type": "code",
      "source": [
        "G.add_edge(1,2,weight=4.7)\n",
        "G.add_edges_from([(3,4),(4,5)],color='red')\n",
        "G.add_edges_from([(1,2,{'color':'blue'}),(2,3,{'weight':8})])\n",
        "G[1][2]['weight']=4.7\n",
        "G.edges[3,4]['weight']=4.2\n"
      ],
      "metadata": {
        "id": "66se-SzxM7D-"
      },
      "execution_count": 102,
      "outputs": []
    },
    {
      "cell_type": "code",
      "source": [
        "# Directed graphs\n",
        "DG = nx.DiGraph()\n",
        "DG.add_weighted_edges_from([(1,2,0.5),(3,1,0.75)])\n",
        "DG.out_degree(1,weight='weight')"
      ],
      "metadata": {
        "colab": {
          "base_uri": "https://localhost:8080/"
        },
        "id": "2lOTSFazN6iA",
        "outputId": "a1418ab5-4a00-4963-83f1-c3086a090e3e"
      },
      "execution_count": 103,
      "outputs": [
        {
          "output_type": "execute_result",
          "data": {
            "text/plain": [
              "0.5"
            ]
          },
          "metadata": {},
          "execution_count": 103
        }
      ]
    },
    {
      "cell_type": "code",
      "source": [
        "DG.degree(1,weight='weight')"
      ],
      "metadata": {
        "colab": {
          "base_uri": "https://localhost:8080/"
        },
        "id": "y6nKUhCyOjpW",
        "outputId": "af5599b7-45af-4a86-d13c-cc17e90426e7"
      },
      "execution_count": 104,
      "outputs": [
        {
          "output_type": "execute_result",
          "data": {
            "text/plain": [
              "1.25"
            ]
          },
          "metadata": {},
          "execution_count": 104
        }
      ]
    },
    {
      "cell_type": "code",
      "source": [
        "#neighbors is equivalent to successors \n",
        "print(list(DG.successors(1)))\n",
        "print(list(DG.neighbors(1)))"
      ],
      "metadata": {
        "colab": {
          "base_uri": "https://localhost:8080/"
        },
        "id": "dcKL5fSjOoNe",
        "outputId": "8b363a38-5a62-4181-d9fb-545906ab23ca"
      },
      "execution_count": 106,
      "outputs": [
        {
          "output_type": "stream",
          "name": "stdout",
          "text": [
            "[2]\n",
            "[2]\n"
          ]
        }
      ]
    },
    {
      "cell_type": "code",
      "source": [
        "list(DG.neighbors(3))"
      ],
      "metadata": {
        "colab": {
          "base_uri": "https://localhost:8080/"
        },
        "id": "Tt4ZtXyYOzxf",
        "outputId": "2ecbd6a6-3730-4af4-c162-b26d4f6646a5"
      },
      "execution_count": 107,
      "outputs": [
        {
          "output_type": "execute_result",
          "data": {
            "text/plain": [
              "[1]"
            ]
          },
          "metadata": {},
          "execution_count": 107
        }
      ]
    },
    {
      "cell_type": "code",
      "source": [
        "# Drawing graphs\n",
        "import matplotlib.pyplot as plt"
      ],
      "metadata": {
        "id": "obdk_8XrPDdG"
      },
      "execution_count": 108,
      "outputs": []
    },
    {
      "cell_type": "code",
      "source": [
        "G = nx.petersen_graph()\n",
        "subax1 = plt.subplot(121)\n",
        "nx.draw(G,with_labels=True,font_weight='bold')\n",
        "subax2 = plt.subplot(122)\n",
        "nx.draw_shell(G, nlist=[range(5, 10), range(5)], with_labels=True, font_weight='bold')"
      ],
      "metadata": {
        "colab": {
          "base_uri": "https://localhost:8080/",
          "height": 248
        },
        "id": "gY9n7IjdP7Zl",
        "outputId": "35ccb2c9-42d8-4b47-c3f1-3169c79a8aea"
      },
      "execution_count": 109,
      "outputs": [
        {
          "output_type": "display_data",
          "data": {
            "text/plain": [
              "<Figure size 432x288 with 2 Axes>"
            ],
            "image/png": "[encoded data removed]"
          },
          "metadata": {}
        }
      ]
    },
    {
      "cell_type": "code",
      "source": [],
      "metadata": {
        "id": "uhPNfE8cQsVt"
      },
      "execution_count": null,
      "outputs": []
    }
  ]
}