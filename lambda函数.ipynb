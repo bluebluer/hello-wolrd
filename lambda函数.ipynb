{
  "nbformat": 4,
  "nbformat_minor": 0,
  "metadata": {
    "colab": {
      "name": "lambda函数.ipynb",
      "provenance": [],
      "authorship_tag": "ABX9TyPtn+hANsSujpuPQg0HEuTa",
      "include_colab_link": true
    },
    "kernelspec": {
      "name": "python3",
      "display_name": "Python 3"
    },
    "language_info": {
      "name": "python"
    },
    "gpuClass": "standard"
  },
  "cells": [
    {
      "cell_type": "markdown",
      "metadata": {
        "id": "view-in-github",
        "colab_type": "text"
      },
      "source": [
        "<a href=\"https://colab.research.google.com/github/bluebluer/hello-wolrd/blob/master/lambda%E5%87%BD%E6%95%B0.ipynb\" target=\"_parent\"><img src=\"https://colab.research.google.com/assets/colab-badge.svg\" alt=\"Open In Colab\"/></a>"
      ]
    },
    {
      "cell_type": "markdown",
      "source": [
        "**匿名函数**：lambda 没有名字的函数，是一种简单同一行中定义函数的方法\n",
        "lambda函数实际生成了一个lambda对象\n",
        "lambda函数可以接受任意多个参数并且返回单个表达式的值\n"
      ],
      "metadata": {
        "id": "TiBjEtu95z3d"
      }
    },
    {
      "cell_type": "markdown",
      "source": [
        "**由于lambda语法是固定的**，其本质上只有一种用法，那就是定义一个lambda函数。在实际中，根据这个lambda函数应用场景的不同，可以将lambda函数的用法扩展为以下几种：\n"
      ],
      "metadata": {
        "id": "B0rnWtYLESUK"
      }
    },
    {
      "cell_type": "markdown",
      "source": [
        "**1.将lambda函数赋值给一个变量，**通过这个变量间接调用该lambda函数。"
      ],
      "metadata": {
        "id": "HVaaULwAEkm7"
      }
    },
    {
      "cell_type": "code",
      "source": [
        "add=lambda x,y:x+y\n",
        "add(1,2)"
      ],
      "metadata": {
        "colab": {
          "base_uri": "https://localhost:8080/"
        },
        "id": "IWFMMCcxEnKx",
        "outputId": "15f6ed41-6778-4909-b4a9-d9a58aa622f7"
      },
      "execution_count": 24,
      "outputs": [
        {
          "output_type": "execute_result",
          "data": {
            "text/plain": [
              "3"
            ]
          },
          "metadata": {},
          "execution_count": 24
        }
      ]
    },
    {
      "cell_type": "markdown",
      "source": [
        "**2.将lambda函数赋值给其他函数**，从而将其他函数用该lambda函数替换。"
      ],
      "metadata": {
        "id": "X8-hNTrIE7NJ"
      }
    },
    {
      "cell_type": "markdown",
      "source": [
        "**3.将lambda函数作为参数传递给其他函数。**"
      ],
      "metadata": {
        "id": "JgP6s9n1FP0h"
      }
    },
    {
      "cell_type": "code",
      "execution_count": 2,
      "metadata": {
        "id": "68KCnHGi4YRg",
        "colab": {
          "base_uri": "https://localhost:8080/"
        },
        "outputId": "261c6eaf-5ca3-4efb-c9b0-e52b501bf66d"
      },
      "outputs": [
        {
          "output_type": "stream",
          "name": "stdout",
          "text": [
            "24 24\n"
          ]
        }
      ],
      "source": [
        "f=lambda a,b,c,d:a*b*c*d\n",
        "def test01(a,b,c,d):\n",
        "  return a*b*c*d\n",
        "print(f(1,2,3,4),test01(1,2,3,4))"
      ]
    },
    {
      "cell_type": "code",
      "source": [
        "g=[lambda a:a*2,lambda b:b*3]\n",
        "print(g[0](5))\n",
        "print(g[1](6))"
      ],
      "metadata": {
        "colab": {
          "base_uri": "https://localhost:8080/"
        },
        "id": "7juRssdH6o7l",
        "outputId": "84705dca-5b93-4fe6-cebc-c32337ec07f8"
      },
      "execution_count": 6,
      "outputs": [
        {
          "output_type": "stream",
          "name": "stdout",
          "text": [
            "10\n",
            "18\n"
          ]
        }
      ]
    },
    {
      "cell_type": "code",
      "source": [
        "#lambda与filter()一起使用\n",
        "my_list=[1,2,3,4,5,6,7,8]\n",
        "new_list=list(filter(lambda x:(x%2==0),my_list))\n",
        "new_list"
      ],
      "metadata": {
        "colab": {
          "base_uri": "https://localhost:8080/"
        },
        "id": "QaDJCrP073Gl",
        "outputId": "22b5580f-83da-473d-e652-f61d08258657"
      },
      "execution_count": 7,
      "outputs": [
        {
          "output_type": "execute_result",
          "data": {
            "text/plain": [
              "[2, 4, 6, 8]"
            ]
          },
          "metadata": {},
          "execution_count": 7
        }
      ]
    },
    {
      "cell_type": "code",
      "source": [
        "#lambda与map()函数一起使用\n",
        "my_list=[1,5,4,6,13,22]\n",
        "new_list=list(map(lambda x:x*2,my_list))\n",
        "new_list"
      ],
      "metadata": {
        "colab": {
          "base_uri": "https://localhost:8080/"
        },
        "id": "PzKP_f7T82z_",
        "outputId": "47a1ab59-ac49-4487-b041-7c049986feeb"
      },
      "execution_count": 8,
      "outputs": [
        {
          "output_type": "execute_result",
          "data": {
            "text/plain": [
              "[2, 10, 8, 12, 26, 44]"
            ]
          },
          "metadata": {},
          "execution_count": 8
        }
      ]
    },
    {
      "cell_type": "code",
      "source": [
        "def new_func(x):\n",
        "    return(lambda y: x+y)\n",
        "t=new_func(3)\n",
        "u=new_func(2)\n",
        "print(t(3))\n",
        "print(u(3))"
      ],
      "metadata": {
        "colab": {
          "base_uri": "https://localhost:8080/"
        },
        "id": "GY4EzAsO9MNV",
        "outputId": "30ffd42f-84c9-4fe8-dd8e-698939669894"
      },
      "execution_count": 9,
      "outputs": [
        {
          "output_type": "stream",
          "name": "stdout",
          "text": [
            "6\n",
            "5\n"
          ]
        }
      ]
    },
    {
      "cell_type": "code",
      "source": [
        "#如何在filter（），map（）和reduce（）中使用匿名函数：\n",
        "#filter（）方法用于在另一个作为参数传递的函数的帮助下，过滤给定的iterables（列表，集合等），以测试所有元素为真还是假。\n",
        "#过滤器（函数，可迭代）\n",
        "my_list = [2,3,4,5,6,7,8]\n",
        "new_list = list(filter(lambda a: (a/3 == 2), my_list))\n",
        "print(new_list)"
      ],
      "metadata": {
        "colab": {
          "base_uri": "https://localhost:8080/"
        },
        "id": "loVsPiEo-RxM",
        "outputId": "7ffc8f7a-30e0-4abe-aefa-306c00ee1d3d"
      },
      "execution_count": 10,
      "outputs": [
        {
          "output_type": "stream",
          "name": "stdout",
          "text": [
            "[6]\n"
          ]
        }
      ]
    },
    {
      "cell_type": "code",
      "source": [
        "#python中map（）函数\n",
        "def square(x):\n",
        "  return x**2\n",
        "list(map(square,[1,2,3,4])),list(map(lambda x:x**2,[1,2,3,4]))\n",
        "\n",
        "#可以在function处使用匿名函数lambda\n",
        "list(map(lambda x,y:(x**y,x+y),[2,3,4],[3,2,1]))\n",
        "\n",
        "#可以用来进行类型转换\n",
        "list(map(int,(1,2,3)))\n",
        "\n",
        "#将字符串转为列表\n",
        "list(map(int,'12334'))\n",
        "\n",
        "#可以提取字典中的key\n",
        "list(map(float,{'1':'wang','2':'zhao','3':'liu'}))"
      ],
      "metadata": {
        "colab": {
          "base_uri": "https://localhost:8080/"
        },
        "id": "cc3-9oo_BFzk",
        "outputId": "6928d87e-58dd-4923-f073-75ed8a522406"
      },
      "execution_count": 23,
      "outputs": [
        {
          "output_type": "execute_result",
          "data": {
            "text/plain": [
              "[1.0, 2.0, 3.0]"
            ]
          },
          "metadata": {},
          "execution_count": 23
        }
      ]
    },
    {
      "cell_type": "code",
      "source": [
        "#Python中的map（）函数是将给定函数应用于所有可迭代对象并返回新列表的函数。\n",
        "#map（函数，可迭代）\n",
        "#map() 会根据提供的函数对指定序列做映射。\n",
        "#第一个参数 function 以参数序列中的每一个元素调用 function 函数，返回包含每次 function 函数返回值的新列表\n",
        "my_list = [2,3,4,5,6,7,8]\n",
        "new_list = list(map(lambda a: (a/3 != 2), my_list))\n",
        "print(new_list)\n",
        "#map(lambda a: (a/3 != 2), my_list)"
      ],
      "metadata": {
        "colab": {
          "base_uri": "https://localhost:8080/"
        },
        "id": "v6_rd80R_Az0",
        "outputId": "3f52c9a0-ea18-474f-a484-4cecde0cc51b"
      },
      "execution_count": 13,
      "outputs": [
        {
          "output_type": "stream",
          "name": "stdout",
          "text": [
            "[True, True, True, True, False, True, True]\n"
          ]
        },
        {
          "output_type": "execute_result",
          "data": {
            "text/plain": [
              "<map at 0x7f8a8bea96d0>"
            ]
          },
          "metadata": {},
          "execution_count": 13
        }
      ]
    },
    {
      "cell_type": "code",
      "source": [
        "#reduce()函数用于将某些其他函数应用于作为参数传递给它的元素列表，并最终返回单个值。\n",
        "#函数将一个数据集合（链表，元组等）中的所有数据进行下列操作：用传给 reduce 中的函数 \n",
        "#function（有两个参数）先对集合中的第 1、2 个元素进行操作，得到的结果再与第三个数据用 \n",
        "#function 函数运算，最后得到一个结果。\n",
        "from functools import reduce\n",
        "def add(x,y):\n",
        "  return x+y\n",
        "sum1=reduce(add,[1,2,3,4,5])\n",
        "sum2=reduce(lambda x,y:x+y,[1,2,3,4,5])\n",
        "print(sum1,sum2)\n",
        "n = 3\n",
        "print(reduce(lambda x, y: x * y, range(1, n + 1)))"
      ],
      "metadata": {
        "colab": {
          "base_uri": "https://localhost:8080/"
        },
        "id": "5fE9v2VT_OlU",
        "outputId": "f5092e0c-634a-42e8-d041-176ceddea303"
      },
      "execution_count": 26,
      "outputs": [
        {
          "output_type": "stream",
          "name": "stdout",
          "text": [
            "15 15\n",
            "6\n"
          ]
        }
      ]
    },
    {
      "cell_type": "code",
      "source": [
        "#1、为什么要用lambda函数\n",
        "def sq(x):\n",
        "  return x*x\n",
        "map(sq,[y for y in range(10)])\n",
        "map(lambda x:x*x,[y for y in range(10)])\n"
      ],
      "metadata": {
        "id": "qiaDKCabIlVZ"
      },
      "execution_count": null,
      "outputs": []
    },
    {
      "cell_type": "markdown",
      "source": [
        "从这个简单的例子，我们可以看出，用lambda函数首先减少了代码的冗余，其次，用lambda函数，不用费神地去命名一个函数的名字，可以快速的实现某项功能，最后，lambda函数使代码的可读性更强，程序看起来更加简洁。"
      ],
      "metadata": {
        "id": "SvyocS3oJB5A"
      }
    },
    {
      "cell_type": "code",
      "source": [
        "#(1)直接赋值一个变量，然后再像一般函数那样调用\n",
        "c=lambda x,y:x*y\n",
        "c(2,3),(lambda x:x**2)(3)"
      ],
      "metadata": {
        "colab": {
          "base_uri": "https://localhost:8080/"
        },
        "id": "0RHSOpL4JXqf",
        "outputId": "90b4cc39-5932-4a18-c80e-f554f7d0e5d0"
      },
      "execution_count": 27,
      "outputs": [
        {
          "output_type": "execute_result",
          "data": {
            "text/plain": [
              "(6, 9)"
            ]
          },
          "metadata": {},
          "execution_count": 27
        }
      ]
    },
    {
      "cell_type": "code",
      "source": [
        "#（2）将lambda函数作为参数传递给其他函数比如说结合map、filter、sorted、reduce等一些\n",
        "#与sorted函数结合使用，比如：创建由元组构成的列表：\n",
        "a=[('b',3),('a',2),('d',4),('c',1)]\n",
        "#分别按照第一个和第二个元素进行排序\n",
        "sorted(a,key=lambda x:x[0]),sorted(a,key=lambda x:x[1])"
      ],
      "metadata": {
        "colab": {
          "base_uri": "https://localhost:8080/"
        },
        "id": "-moC1bqiJu4Q",
        "outputId": "1cbb1977-1c18-4e50-d8a4-3201c1252fcf"
      },
      "execution_count": 29,
      "outputs": [
        {
          "output_type": "execute_result",
          "data": {
            "text/plain": [
              "([('a', 2), ('b', 3), ('c', 1), ('d', 4)],\n",
              " [('c', 1), ('a', 2), ('b', 3), ('d', 4)])"
            ]
          },
          "metadata": {},
          "execution_count": 29
        }
      ]
    },
    {
      "cell_type": "code",
      "source": [
        "#与reduce函数结合使用\n",
        "print(reduce(lambda a,b:'{},{}'.format(a,b),[1,2,3,4,5,6,7,8,9]))"
      ],
      "metadata": {
        "colab": {
          "base_uri": "https://localhost:8080/"
        },
        "id": "KUkp65WtKZpo",
        "outputId": "1d44442f-cf92-4ba9-90ba-b6c3f37ed4e7"
      },
      "execution_count": 30,
      "outputs": [
        {
          "output_type": "stream",
          "name": "stdout",
          "text": [
            "1,2,3,4,5,6,7,8,9\n"
          ]
        }
      ]
    },
    {
      "cell_type": "code",
      "source": [
        "#(3)嵌套使用将lambda函数嵌套到普通函数中，lambda函数本身作为return的值\n",
        "def increment(n):\n",
        "  return lambda x:x+n\n",
        "f=increment(4)\n",
        "f(2)\n"
      ],
      "metadata": {
        "colab": {
          "base_uri": "https://localhost:8080/"
        },
        "id": "PkSihbCRL_Yw",
        "outputId": "3249249a-1546-4860-841d-8fb133ace664"
      },
      "execution_count": 31,
      "outputs": [
        {
          "output_type": "execute_result",
          "data": {
            "text/plain": [
              "6"
            ]
          },
          "metadata": {},
          "execution_count": 31
        }
      ]
    },
    {
      "cell_type": "code",
      "source": [
        "#(4)字符串联合，有默认值，也可以用x=(lambda..)这种格式\n",
        "x=(lambda x='Boo',y='Too',z='ZOO':x+y+z)\n",
        "print(x('l'))"
      ],
      "metadata": {
        "colab": {
          "base_uri": "https://localhost:8080/"
        },
        "id": "fdDccSItMoEX",
        "outputId": "b852f2b4-8cf8-437d-a97d-c23c91c553b0"
      },
      "execution_count": 34,
      "outputs": [
        {
          "output_type": "stream",
          "name": "stdout",
          "text": [
            "lTooZOO\n"
          ]
        }
      ]
    },
    {
      "cell_type": "code",
      "source": [
        "#（5）判断字符串是否以某个字母开头\n",
        "Names=['Anne','Amy','Bob','David','Carrie','Barbara','Zach']\n",
        "B_name=filter(lambda x:x.startswith('B'),Names)\n",
        "print(list(B_name))"
      ],
      "metadata": {
        "colab": {
          "base_uri": "https://localhost:8080/"
        },
        "id": "QVCPEpPLOH5Q",
        "outputId": "e7cd3e73-70b2-48a6-d2dc-0d23d6187390"
      },
      "execution_count": 38,
      "outputs": [
        {
          "output_type": "stream",
          "name": "stdout",
          "text": [
            "['Bob', 'Barbara']\n"
          ]
        }
      ]
    },
    {
      "cell_type": "code",
      "source": [
        "#（6）求两个列表元素之和\n",
        "a=range(1,5)\n",
        "b=range(5,9)\n",
        "print(list(map(lambda x,y:x+y,a,b)))"
      ],
      "metadata": {
        "colab": {
          "base_uri": "https://localhost:8080/"
        },
        "id": "PvtT9mfwOma_",
        "outputId": "78276945-a903-48cf-f6a5-9dabb98d95f0"
      },
      "execution_count": 39,
      "outputs": [
        {
          "output_type": "stream",
          "name": "stdout",
          "text": [
            "[6, 8, 10, 12]\n"
          ]
        }
      ]
    },
    {
      "cell_type": "code",
      "source": [
        "#（7）求字符串每个单词的长度\n",
        "sentence='Welcome To Beijing!'\n",
        "words=sentence.split()\n",
        "lengths=map(lambda x:len(x),words)\n",
        "print(list(lengths))"
      ],
      "metadata": {
        "colab": {
          "base_uri": "https://localhost:8080/"
        },
        "id": "2jJQziCuPGqG",
        "outputId": "61623f61-4664-4f3c-ded0-0341852aad21"
      },
      "execution_count": 43,
      "outputs": [
        {
          "output_type": "stream",
          "name": "stdout",
          "text": [
            "[7, 2, 8]\n"
          ]
        }
      ]
    }
  ]
}