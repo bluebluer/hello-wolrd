{
  "nbformat": 4,
  "nbformat_minor": 0,
  "metadata": {
    "colab": {
      "name": " numpy_100exercise_中.ipynb",
      "provenance": [],
      "authorship_tag": "ABX9TyMHT4QoXeD2hmBFs0mU1mC2",
      "include_colab_link": true
    },
    "kernelspec": {
      "name": "python3",
      "display_name": "Python 3"
    },
    "language_info": {
      "name": "python"
    }
  },
  "cells": [
    {
      "cell_type": "markdown",
      "metadata": {
        "id": "view-in-github",
        "colab_type": "text"
      },
      "source": [
        "<a href=\"https://colab.research.google.com/github/bluebluer/hello-wolrd/blob/master/python_pri%5Cnumpy_100exercise_%E4%B8%AD.ipynb\" target=\"_parent\"><img src=\"https://colab.research.google.com/assets/colab-badge.svg\" alt=\"Open In Colab\"/></a>"
      ]
    },
    {
      "cell_type": "code",
      "execution_count": 3,
      "metadata": {
        "colab": {
          "base_uri": "https://localhost:8080/"
        },
        "id": "Mk42UpWvR346",
        "outputId": "f4dca48c-947d-4b0b-feb7-956bd98818ee"
      },
      "outputs": [
        {
          "output_type": "stream",
          "name": "stdout",
          "text": [
            "[((0., 0.), (0., 0., 0.)) ((0., 0.), (0., 0., 0.))\n",
            " ((0., 0.), (0., 0., 0.)) ((0., 0.), (0., 0., 0.))\n",
            " ((0., 0.), (0., 0., 0.)) ((0., 0.), (0., 0., 0.))\n",
            " ((0., 0.), (0., 0., 0.)) ((0., 0.), (0., 0., 0.))\n",
            " ((0., 0.), (0., 0., 0.)) ((0., 0.), (0., 0., 0.))]\n"
          ]
        },
        {
          "output_type": "stream",
          "name": "stderr",
          "text": [
            "/usr/local/lib/python3.7/dist-packages/ipykernel_launcher.py:7: FutureWarning: Passing (type, 1) or '1type' as a synonym of type is deprecated; in a future version of numpy, it will be understood as (type, (1,)) / '(1,)type'.\n",
            "  import sys\n"
          ]
        }
      ],
      "source": [
        "# 51.Create a structured array represeting a position (x,y) and a color(r,g,b)\n",
        "import numpy as np\n",
        "Z = np.zeros(10, [ ('position', [ ('x', float, 1),\n",
        "                                  ('y', float, 1)]),\n",
        "                   ('color',    [ ('r', float, 1),\n",
        "                                  ('g', float, 1),\n",
        "                                  ('b', float, 1)])])\n",
        "print(Z)"
      ]
    },
    {
      "cell_type": "code",
      "source": [
        "# 52.Consider a random vector with shape (100,2) representing coordinates\n",
        "# find point by point distances\n",
        "Z =np.random.random((10,2))\n",
        "X,Y=np.atleast_2d(Z[:,0],Z[:,1])\n",
        "D=np.sqrt((X-X.T)**2+(Y-Y.T)**2)\n",
        "print(X,X.shape)\n",
        "print(X.T,X.T.shape)\n",
        "\n",
        "#print(Y)\n"
      ],
      "metadata": {
        "colab": {
          "base_uri": "https://localhost:8080/"
        },
        "id": "qtEzEHKFSn4v",
        "outputId": "62598ef9-8c4d-4db9-fc47-4432789d8ea0"
      },
      "execution_count": 14,
      "outputs": [
        {
          "output_type": "stream",
          "name": "stdout",
          "text": [
            "[[0.3567001  0.31840606 0.96182761 0.1593021  0.60163578 0.1140036\n",
            "  0.87893502 0.27278603 0.59083486 0.17608495]] (1, 10)\n",
            "[[0.3567001 ]\n",
            " [0.31840606]\n",
            " [0.96182761]\n",
            " [0.1593021 ]\n",
            " [0.60163578]\n",
            " [0.1140036 ]\n",
            " [0.87893502]\n",
            " [0.27278603]\n",
            " [0.59083486]\n",
            " [0.17608495]] (10, 1)\n"
          ]
        }
      ]
    },
    {
      "cell_type": "code",
      "source": [
        "# Much fster with scipy\n",
        "import scipy\n",
        "import scipy.spatial\n",
        "Z = np.random.random((10,2))\n",
        "D = scipy.spatial.distance.cdist(Z,Z)\n",
        "print(D)"
      ],
      "metadata": {
        "colab": {
          "base_uri": "https://localhost:8080/"
        },
        "id": "KGcEQbe5UMz4",
        "outputId": "224da24a-bd20-4e7c-933a-a162e512fdc4"
      },
      "execution_count": 15,
      "outputs": [
        {
          "output_type": "stream",
          "name": "stdout",
          "text": [
            "[[0.         0.7353081  0.63911939 0.03887738 0.34483151 0.26872696\n",
            "  0.59291331 0.1358569  0.62700006 0.44601974]\n",
            " [0.7353081  0.         0.79118784 0.69720766 0.67256122 0.80819144\n",
            "  0.99088936 0.6230815  0.29134632 0.8966966 ]\n",
            " [0.63911939 0.79118784 0.         0.63424005 0.29611659 0.90199783\n",
            "  0.28089793 0.5398067  0.50410224 0.30643376]\n",
            " [0.03887738 0.69720766 0.63424005 0.         0.33824543 0.26793454\n",
            "  0.60546644 0.11028763 0.59522444 0.45877355]\n",
            " [0.34483151 0.67256122 0.29611659 0.33824543 0.         0.60589568\n",
            "  0.34118699 0.24559839 0.44190604 0.22541363]\n",
            " [0.26872696 0.80819144 0.90199783 0.26793454 0.60589568 0.\n",
            "  0.85775622 0.36696075 0.79235292 0.7113785 ]\n",
            " [0.59291331 0.99088936 0.28089793 0.60546644 0.34118699 0.85775622\n",
            "  0.         0.54878774 0.72550115 0.1469123 ]\n",
            " [0.1358569  0.6230815  0.5398067  0.11028763 0.24559839 0.36696075\n",
            "  0.54878774 0.         0.49292131 0.40633731]\n",
            " [0.62700006 0.29134632 0.50410224 0.59522444 0.44190604 0.79235292\n",
            "  0.72550115 0.49292131 0.         0.65222055]\n",
            " [0.44601974 0.8966966  0.30643376 0.45877355 0.22541363 0.7113785\n",
            "  0.1469123  0.40633731 0.65222055 0.        ]]\n"
          ]
        }
      ]
    },
    {
      "cell_type": "code",
      "source": [
        "# 53.How to convert a float array into an inerger in place?\n",
        "Z = (np.random.rand(10)*100).astype(np.float32)\n",
        "Y = Z.view(np.int32)\n",
        "Y[:] = Z\n",
        "print(Y)"
      ],
      "metadata": {
        "colab": {
          "base_uri": "https://localhost:8080/"
        },
        "id": "quP9yoskSbFY",
        "outputId": "f3c44a83-ca68-4940-c34d-8f1458e0e51d"
      },
      "execution_count": 18,
      "outputs": [
        {
          "output_type": "stream",
          "name": "stdout",
          "text": [
            "[79 14 62 69 12 32  5 85 35 92]\n"
          ]
        }
      ]
    },
    {
      "cell_type": "code",
      "source": [
        "# 54.How to read the following file?\n",
        "# 1,2,3,4,5.....\n",
        "from io import StringIO\n",
        "s=StringIO(\"\"\"1,2,3,4,5\n",
        "      6, , ,7,8\n",
        "      , ,9,10,11\n",
        "\"\"\")\n",
        "Z=np.genfromtxt(s,delimiter=',',dtype=np.int)\n",
        "print(Z)"
      ],
      "metadata": {
        "colab": {
          "base_uri": "https://localhost:8080/"
        },
        "id": "kSBCAI8-Uz7F",
        "outputId": "25c5fdfe-629b-4789-8da3-889138d867fc"
      },
      "execution_count": 19,
      "outputs": [
        {
          "output_type": "stream",
          "name": "stdout",
          "text": [
            "[[ 1  2  3  4  5]\n",
            " [ 6 -1 -1  7  8]\n",
            " [-1 -1  9 10 11]]\n"
          ]
        },
        {
          "output_type": "stream",
          "name": "stderr",
          "text": [
            "/usr/local/lib/python3.7/dist-packages/ipykernel_launcher.py:8: DeprecationWarning: `np.int` is a deprecated alias for the builtin `int`. To silence this warning, use `int` by itself. Doing this will not modify any behavior and is safe. When replacing `np.int`, you may wish to use e.g. `np.int64` or `np.int32` to specify the precision. If you wish to review your current use, check the release note link for additional information.\n",
            "Deprecated in NumPy 1.20; for more details and guidance: https://numpy.org/devdocs/release/1.20.0-notes.html#deprecations\n",
            "  \n"
          ]
        }
      ]
    },
    {
      "cell_type": "code",
      "source": [
        "# 55.What is the equivalent of enumerate for numpy arrays?\n",
        "Z=np.arange(9).reshape(3,3)\n",
        "for index,value in np.ndenumerate(Z):\n",
        "  print(index,value)\n",
        "for index in np.ndindex(Z.shape):\n",
        "  print(index,Z[index])"
      ],
      "metadata": {
        "colab": {
          "base_uri": "https://localhost:8080/"
        },
        "id": "0UKYSK2HV_Ju",
        "outputId": "73647d7d-dff7-45f4-ca89-411ee9d1ab2c"
      },
      "execution_count": 20,
      "outputs": [
        {
          "output_type": "stream",
          "name": "stdout",
          "text": [
            "(0, 0) 0\n",
            "(0, 1) 1\n",
            "(0, 2) 2\n",
            "(1, 0) 3\n",
            "(1, 1) 4\n",
            "(1, 2) 5\n",
            "(2, 0) 6\n",
            "(2, 1) 7\n",
            "(2, 2) 8\n",
            "(0, 0) 0\n",
            "(0, 1) 1\n",
            "(0, 2) 2\n",
            "(1, 0) 3\n",
            "(1, 1) 4\n",
            "(1, 2) 5\n",
            "(2, 0) 6\n",
            "(2, 1) 7\n",
            "(2, 2) 8\n"
          ]
        }
      ]
    },
    {
      "cell_type": "code",
      "source": [
        "# 56.Generate a generic 2D Gauussian-like array\n",
        "X,Y =np.meshgrid(np.linspace(-1,1,10),np.linspace(-1,1,10))\n",
        "D=np.sqrt(X*X+Y*Y)\n",
        "sigma,mu=1.0,0.0\n",
        "G = np.exp(-( (D-mu)**2 / ( 2.0 * sigma**2 ) ) )\n",
        "print(G)"
      ],
      "metadata": {
        "colab": {
          "base_uri": "https://localhost:8080/"
        },
        "id": "ClwEIikIW9t-",
        "outputId": "44fc1c07-ae9a-4d97-b25a-da8b6a4e19f7"
      },
      "execution_count": 24,
      "outputs": [
        {
          "output_type": "stream",
          "name": "stdout",
          "text": [
            "[[0.36787944 0.44822088 0.51979489 0.57375342 0.60279818 0.60279818\n",
            "  0.57375342 0.51979489 0.44822088 0.36787944]\n",
            " [0.44822088 0.54610814 0.63331324 0.69905581 0.73444367 0.73444367\n",
            "  0.69905581 0.63331324 0.54610814 0.44822088]\n",
            " [0.51979489 0.63331324 0.73444367 0.81068432 0.85172308 0.85172308\n",
            "  0.81068432 0.73444367 0.63331324 0.51979489]\n",
            " [0.57375342 0.69905581 0.81068432 0.89483932 0.9401382  0.9401382\n",
            "  0.89483932 0.81068432 0.69905581 0.57375342]\n",
            " [0.60279818 0.73444367 0.85172308 0.9401382  0.98773022 0.98773022\n",
            "  0.9401382  0.85172308 0.73444367 0.60279818]\n",
            " [0.60279818 0.73444367 0.85172308 0.9401382  0.98773022 0.98773022\n",
            "  0.9401382  0.85172308 0.73444367 0.60279818]\n",
            " [0.57375342 0.69905581 0.81068432 0.89483932 0.9401382  0.9401382\n",
            "  0.89483932 0.81068432 0.69905581 0.57375342]\n",
            " [0.51979489 0.63331324 0.73444367 0.81068432 0.85172308 0.85172308\n",
            "  0.81068432 0.73444367 0.63331324 0.51979489]\n",
            " [0.44822088 0.54610814 0.63331324 0.69905581 0.73444367 0.73444367\n",
            "  0.69905581 0.63331324 0.54610814 0.44822088]\n",
            " [0.36787944 0.44822088 0.51979489 0.57375342 0.60279818 0.60279818\n",
            "  0.57375342 0.51979489 0.44822088 0.36787944]]\n"
          ]
        }
      ]
    },
    {
      "cell_type": "code",
      "source": [
        "# 57.How to randomly place p elements in a 2D array?\n",
        "n=10\n",
        "p=3\n",
        "Z=np.zeros((n,n))\n",
        "np.put(Z,np.random.choice(range(n*n),p,replace=False),1)\n",
        "print(Z)"
      ],
      "metadata": {
        "colab": {
          "base_uri": "https://localhost:8080/"
        },
        "id": "UR51-Po1YGmr",
        "outputId": "cb6079c0-5cee-4b82-c3e7-6c6dae381568"
      },
      "execution_count": 25,
      "outputs": [
        {
          "output_type": "stream",
          "name": "stdout",
          "text": [
            "[[0. 0. 0. 0. 0. 0. 0. 0. 0. 0.]\n",
            " [0. 0. 0. 0. 0. 0. 0. 0. 0. 0.]\n",
            " [0. 1. 0. 0. 0. 0. 0. 0. 0. 0.]\n",
            " [0. 0. 0. 0. 0. 0. 0. 0. 0. 0.]\n",
            " [0. 0. 0. 0. 1. 0. 0. 0. 0. 0.]\n",
            " [0. 0. 0. 0. 0. 0. 0. 0. 0. 0.]\n",
            " [0. 0. 0. 0. 0. 0. 0. 0. 0. 0.]\n",
            " [0. 0. 0. 1. 0. 0. 0. 0. 0. 0.]\n",
            " [0. 0. 0. 0. 0. 0. 0. 0. 0. 0.]\n",
            " [0. 0. 0. 0. 0. 0. 0. 0. 0. 0.]]\n"
          ]
        }
      ]
    },
    {
      "cell_type": "code",
      "source": [
        "# 58.Subtract the mean of each row of a matrix\n",
        "X=np.random.rand(5,10)\n",
        "# Recent versions of numpy\n",
        "Y = X - X.mean(axis=1, keepdims=True)\n",
        "print(Y)\n",
        "# Older versions of numpy\n",
        "#Y = X - X.mean(axis=1).reshape(-1, 1)"
      ],
      "metadata": {
        "colab": {
          "base_uri": "https://localhost:8080/"
        },
        "id": "1aIg4DnNY5s8",
        "outputId": "e61ab8fc-af3a-4638-da36-c56e026f739d"
      },
      "execution_count": 28,
      "outputs": [
        {
          "output_type": "stream",
          "name": "stdout",
          "text": [
            "[[ 0.11159631  0.30809289  0.35251782  0.14713097 -0.39610839  0.17973591\n",
            "  -0.21018382 -0.15513876  0.01748516 -0.35512808]\n",
            " [ 0.18862931 -0.02125829  0.11154367 -0.05393577 -0.26101982  0.23568992\n",
            "   0.20150993 -0.337819   -0.00825063 -0.05508932]\n",
            " [-0.128826    0.25156607 -0.51470947  0.0677926  -0.26723013 -0.30471889\n",
            "   0.22848321  0.18777403  0.44459133  0.03527725]\n",
            " [ 0.26210651 -0.42738919 -0.34936707 -0.06356259  0.18679066  0.12916791\n",
            "   0.02554548  0.37807159 -0.11098865 -0.03037466]\n",
            " [ 0.4306491   0.03014692 -0.10060849  0.00235109 -0.11855226  0.48033078\n",
            "  -0.15108087 -0.48808232 -0.49550973  0.41035577]]\n"
          ]
        }
      ]
    },
    {
      "cell_type": "code",
      "source": [
        "# 59 How to sort an array by the nth column?\n",
        "Z=np.random.randint(0,10,(4,4))\n",
        "print(Z)\n",
        "print(Z[Z[:,1].argsort()])\n",
        "Z[:,1].argsort()"
      ],
      "metadata": {
        "colab": {
          "base_uri": "https://localhost:8080/"
        },
        "id": "Z_0XqDxaZpkd",
        "outputId": "e8bded39-43c2-41e7-bdd9-a166b0e3be69"
      },
      "execution_count": 33,
      "outputs": [
        {
          "output_type": "stream",
          "name": "stdout",
          "text": [
            "[[0 4 5 3]\n",
            " [0 0 5 5]\n",
            " [1 8 5 6]\n",
            " [6 5 3 7]]\n",
            "[[0 0 5 5]\n",
            " [0 4 5 3]\n",
            " [6 5 3 7]\n",
            " [1 8 5 6]]\n"
          ]
        },
        {
          "output_type": "execute_result",
          "data": {
            "text/plain": [
              "array([1, 0, 3, 2])"
            ]
          },
          "metadata": {},
          "execution_count": 33
        }
      ]
    },
    {
      "cell_type": "code",
      "source": [
        "# 60.How to tell if a given 2D array has null columns?\n",
        "Z=np.random.randint(0,4,(3,10))\n",
        "print(Z)\n",
        "print((~Z.any(axis=0)).any())"
      ],
      "metadata": {
        "colab": {
          "base_uri": "https://localhost:8080/"
        },
        "id": "93xjAqsPazbE",
        "outputId": "67eb29df-3e44-4b7d-cc42-0705ea8193ed"
      },
      "execution_count": 54,
      "outputs": [
        {
          "output_type": "stream",
          "name": "stdout",
          "text": [
            "[[3 0 1 3 0 1 3 2 0 2]\n",
            " [2 0 3 2 0 1 2 3 1 0]\n",
            " [0 0 2 0 1 0 3 3 3 2]]\n",
            "True\n"
          ]
        }
      ]
    },
    {
      "cell_type": "code",
      "source": [
        "# 61.Find the nearest value from a given value in an array\n",
        "Z=np.random.uniform(0,1,10)\n",
        "z=0.5\n",
        "m=Z.flat[np.abs(Z-z).argmin()]\n",
        "print(m)"
      ],
      "metadata": {
        "colab": {
          "base_uri": "https://localhost:8080/"
        },
        "id": "-kk0S_jXcDhL",
        "outputId": "9a38d5cc-2d17-4a57-90a2-5e5a3bc8681e"
      },
      "execution_count": 58,
      "outputs": [
        {
          "output_type": "stream",
          "name": "stdout",
          "text": [
            "0.5180687317121399\n"
          ]
        }
      ]
    },
    {
      "cell_type": "code",
      "source": [
        "# 62.Considering two arrays with shape (1,3) and (3,1)\n",
        "# how to compute their sum using an iterator?\n",
        "A =np.arange(3).reshape(3,1)\n",
        "B =np.arange(3).reshape(1,3)\n",
        "it =np.nditer([A,B,None])\n",
        "for x,y,z in it:z[...] =x+y\n",
        "print(it.operands[2])"
      ],
      "metadata": {
        "colab": {
          "base_uri": "https://localhost:8080/"
        },
        "id": "c3NyK-oJcqCz",
        "outputId": "c9cd8b53-f990-4f86-8e8d-fa30b58455ee"
      },
      "execution_count": 59,
      "outputs": [
        {
          "output_type": "stream",
          "name": "stdout",
          "text": [
            "[[0 1 2]\n",
            " [1 2 3]\n",
            " [2 3 4]]\n"
          ]
        }
      ]
    },
    {
      "cell_type": "code",
      "source": [
        "# 63.Create an array class that has name attibute\n",
        "class NamedArray(np.ndarray):\n",
        "    def __new__(cls, array, name=\"no name\"):\n",
        "        obj = np.asarray(array).view(cls)\n",
        "        obj.name = name\n",
        "        return obj\n",
        "    def __array_finalize__(self, obj):\n",
        "        if obj is None: return\n",
        "        self.info = getattr(obj, 'name', \"no name\")\n",
        "\n",
        "Z = NamedArray(np.arange(10), \"range_10\")\n",
        "print (Z.name)\n"
      ],
      "metadata": {
        "colab": {
          "base_uri": "https://localhost:8080/"
        },
        "id": "LZnKtxNsd0oy",
        "outputId": "e33fead0-40bf-43be-b273-7683a5168ec0"
      },
      "execution_count": 60,
      "outputs": [
        {
          "output_type": "stream",
          "name": "stdout",
          "text": [
            "range_10\n"
          ]
        }
      ]
    },
    {
      "cell_type": "code",
      "source": [
        "# 64.Consider a given vector,how to add 1 to each element indexed by a second vector\n",
        "# (be careful with repeated indices)? \n",
        "Z=np.ones(10)\n",
        "print(Z)\n",
        "I=np.random.randint(0,len(Z),20)\n",
        "print(I)\n",
        "Z +=np.bincount(I,minlength=len(Z))\n",
        "print(Z)\n",
        "\n",
        "#Anther solution\n",
        "np.add.at(Z,I,1)\n",
        "print(Z)"
      ],
      "metadata": {
        "colab": {
          "base_uri": "https://localhost:8080/"
        },
        "id": "bnoa9e9mdvSk",
        "outputId": "a8367b49-88e5-4ea0-a896-8bcfaac40752"
      },
      "execution_count": 63,
      "outputs": [
        {
          "output_type": "stream",
          "name": "stdout",
          "text": [
            "[1. 1. 1. 1. 1. 1. 1. 1. 1. 1.]\n",
            "[2 9 0 6 8 4 5 8 9 3 7 5 8 0 4 4 3 5 7 3]\n",
            "[3. 1. 2. 4. 4. 4. 2. 3. 4. 3.]\n",
            "[5. 1. 3. 7. 7. 7. 3. 5. 7. 5.]\n"
          ]
        }
      ]
    },
    {
      "cell_type": "code",
      "source": [
        "# 65.How to accumulate elements of vector X to an array F based on an idnex list I\n",
        "X =[1,2,3,4,5,6]\n",
        "I =[1,3,9,3,4,1]\n",
        "F =np.bincount(I,X)\n",
        "print(F)"
      ],
      "metadata": {
        "colab": {
          "base_uri": "https://localhost:8080/"
        },
        "id": "Wfhae8w2fsji",
        "outputId": "a601f0c5-b74f-4273-d791-ac035e2302c1"
      },
      "execution_count": 65,
      "outputs": [
        {
          "output_type": "stream",
          "name": "stdout",
          "text": [
            "[0. 7. 0. 6. 5. 0. 0. 0. 0. 3.]\n"
          ]
        }
      ]
    },
    {
      "cell_type": "code",
      "source": [
        "# 66.Considering a(w,h,3) image of (dtype=ubyte),compute number of unique colors\n",
        "w, h = 256, 256\n",
        "I = np.random.randint(0, 4, (h, w, 3)).astype(np.ubyte)\n",
        "colors = np.unique(I.reshape(-1, 3), axis=0)\n",
        "n = len(colors)\n",
        "print(n)\n",
        "\n",
        "# Faster version\n",
        "# Author: Mark Setchell\n",
        "# https://stackoverflow.com/a/59671950/2836621\n",
        "\n",
        "w, h = 256, 256\n",
        "I = np.random.randint(0,4,(h,w,3), dtype=np.uint8)\n",
        "\n",
        "# View each pixel as a single 24-bit integer, rather than three 8-bit bytes\n",
        "I24 = np.dot(I.astype(np.uint32),[1,256,65536])\n",
        "\n",
        "# Count unique colours\n",
        "n = len(np.unique(I24))\n",
        "print(n)"
      ],
      "metadata": {
        "colab": {
          "base_uri": "https://localhost:8080/"
        },
        "id": "-RZ63FACfKVi",
        "outputId": "bc5d9ffd-16d6-4e6b-9623-5d8215888a8e"
      },
      "execution_count": 67,
      "outputs": [
        {
          "output_type": "stream",
          "name": "stdout",
          "text": [
            "64\n",
            "64\n"
          ]
        }
      ]
    },
    {
      "cell_type": "code",
      "source": [
        "# 67.Considering a four dimensions array,how to get sum over the last two axis at once?\n",
        "# solution by passing a tuple of axes (introduced in numpy 1.7.0)\n",
        "A = np.random.randint(0,10,(3,4,3,4))\n",
        "sum = A.sum(axis=(-2,-1))\n",
        "print(sum)\n",
        "# solution by flattening the last two dimensions into one\n",
        "# (useful for functions that don't accept tuples for axis argument)\n",
        "sum = A.reshape(A.shape[:-2] + (-1,)).sum(axis=-1)\n",
        "print(sum)"
      ],
      "metadata": {
        "colab": {
          "base_uri": "https://localhost:8080/"
        },
        "id": "vnQqVPmxiLEZ",
        "outputId": "d10a230e-7036-4d16-c54c-b6236a4f9e2c"
      },
      "execution_count": 68,
      "outputs": [
        {
          "output_type": "stream",
          "name": "stdout",
          "text": [
            "[[41 52 57 44]\n",
            " [53 44 44 58]\n",
            " [38 52 46 46]]\n",
            "[[41 52 57 44]\n",
            " [53 44 44 58]\n",
            " [38 52 46 46]]\n"
          ]
        }
      ]
    },
    {
      "cell_type": "code",
      "source": [
        "# 68.Considering a one-dimensional vector D, how to compute means of subsets of D using a \n",
        "# vector S of same size describing subset  indices? \n",
        "D = np.random.uniform(0,1,100)\n",
        "S = np.random.randint(0,10,100)\n",
        "D_sums = np.bincount(S, weights=D)\n",
        "D_counts = np.bincount(S)\n",
        "D_means = D_sums / D_counts\n",
        "print(D_means)"
      ],
      "metadata": {
        "colab": {
          "base_uri": "https://localhost:8080/"
        },
        "id": "wDOX9JShlHSQ",
        "outputId": "44cca6d3-7b5b-4642-8602-53812f08e5e1"
      },
      "execution_count": 69,
      "outputs": [
        {
          "output_type": "stream",
          "name": "stdout",
          "text": [
            "[0.56688354 0.47840131 0.55465416 0.53999816 0.38172057 0.59913929\n",
            " 0.52152045 0.52111003 0.52124984 0.51435806]\n"
          ]
        }
      ]
    },
    {
      "cell_type": "code",
      "source": [
        "# Pandas solution as a reference due to more intuitive code\n",
        "import pandas as pd\n",
        "print(pd.Series(D).groupby(S).mean())"
      ],
      "metadata": {
        "colab": {
          "base_uri": "https://localhost:8080/"
        },
        "id": "uvRypEj5kg9g",
        "outputId": "80cffe71-fbe4-4e06-c63a-fd256ded80be"
      },
      "execution_count": 70,
      "outputs": [
        {
          "output_type": "stream",
          "name": "stdout",
          "text": [
            "0    0.566884\n",
            "1    0.478401\n",
            "2    0.554654\n",
            "3    0.539998\n",
            "4    0.381721\n",
            "5    0.599139\n",
            "6    0.521520\n",
            "7    0.521110\n",
            "8    0.521250\n",
            "9    0.514358\n",
            "dtype: float64\n"
          ]
        }
      ]
    },
    {
      "cell_type": "code",
      "source": [
        "# 69 How to get the diagonal of a dot product?\n",
        "# Author: Mathieu Blondel\n",
        "\n",
        "A = np.random.uniform(0,1,(5,5))\n",
        "B = np.random.uniform(0,1,(5,5))\n",
        "\n",
        "# Slow version\n",
        "np.diag(np.dot(A, B))\n",
        "\n",
        "# Fast version\n",
        "np.sum(A * B.T, axis=1)\n",
        "\n",
        "# Faster version\n",
        "np.einsum(\"ij,ji->i\", A, B)"
      ],
      "metadata": {
        "colab": {
          "base_uri": "https://localhost:8080/"
        },
        "id": "WDF5lDN1l48Z",
        "outputId": "6d273d75-94c8-45b2-c518-bd4af943abbe"
      },
      "execution_count": 71,
      "outputs": [
        {
          "output_type": "execute_result",
          "data": {
            "text/plain": [
              "array([0.6631544 , 0.99740018, 2.04681567, 1.58572868, 1.03538006])"
            ]
          },
          "metadata": {},
          "execution_count": 71
        }
      ]
    },
    {
      "cell_type": "code",
      "source": [
        "# 70. Consider the vector [1, 2, 3, 4, 5], how to build a new vector\n",
        "# with 3 consecutive zeros interleaved between each value? \n",
        "# Author: Warren Weckesser\n",
        "\n",
        "Z = np.array([1,2,3,4,5])\n",
        "nz = 3\n",
        "Z0 = np.zeros(len(Z) + (len(Z)-1)*(nz))\n",
        "Z0[::nz+1] = Z\n",
        "print(Z0)"
      ],
      "metadata": {
        "colab": {
          "base_uri": "https://localhost:8080/"
        },
        "id": "luuyuB8nm7fI",
        "outputId": "b1810df7-9307-4a4a-d4e7-09d99b99ca1b"
      },
      "execution_count": 72,
      "outputs": [
        {
          "output_type": "stream",
          "name": "stdout",
          "text": [
            "[1. 0. 0. 0. 2. 0. 0. 0. 3. 0. 0. 0. 4. 0. 0. 0. 5.]\n"
          ]
        }
      ]
    },
    {
      "cell_type": "code",
      "source": [
        "# 71.Consider an array of dimension (5,5,3), how to mulitply it by an array with dimensions (5,5)?\n",
        "A = np.ones((5,5,3))\n",
        "B = 2*np.ones((5,5))\n",
        "print(A * B[:,:,None])"
      ],
      "metadata": {
        "colab": {
          "base_uri": "https://localhost:8080/"
        },
        "id": "DNz5AXwWnUrf",
        "outputId": "5cba1b3c-8fc2-4353-cc4c-a9018a06aa8c"
      },
      "execution_count": 73,
      "outputs": [
        {
          "output_type": "stream",
          "name": "stdout",
          "text": [
            "[[[2. 2. 2.]\n",
            "  [2. 2. 2.]\n",
            "  [2. 2. 2.]\n",
            "  [2. 2. 2.]\n",
            "  [2. 2. 2.]]\n",
            "\n",
            " [[2. 2. 2.]\n",
            "  [2. 2. 2.]\n",
            "  [2. 2. 2.]\n",
            "  [2. 2. 2.]\n",
            "  [2. 2. 2.]]\n",
            "\n",
            " [[2. 2. 2.]\n",
            "  [2. 2. 2.]\n",
            "  [2. 2. 2.]\n",
            "  [2. 2. 2.]\n",
            "  [2. 2. 2.]]\n",
            "\n",
            " [[2. 2. 2.]\n",
            "  [2. 2. 2.]\n",
            "  [2. 2. 2.]\n",
            "  [2. 2. 2.]\n",
            "  [2. 2. 2.]]\n",
            "\n",
            " [[2. 2. 2.]\n",
            "  [2. 2. 2.]\n",
            "  [2. 2. 2.]\n",
            "  [2. 2. 2.]\n",
            "  [2. 2. 2.]]]\n"
          ]
        }
      ]
    },
    {
      "cell_type": "code",
      "source": [
        "# 72. How to swap two rows of an array? \n",
        "A =np.arange(25).reshape(5,5)\n",
        "A[[0,1]] =A[[1,0]]\n",
        "print(A)"
      ],
      "metadata": {
        "colab": {
          "base_uri": "https://localhost:8080/"
        },
        "id": "4nSn4-wWndJm",
        "outputId": "2e4b8b27-ca8a-417e-b45e-0927ffb6d626"
      },
      "execution_count": 74,
      "outputs": [
        {
          "output_type": "stream",
          "name": "stdout",
          "text": [
            "[[ 5  6  7  8  9]\n",
            " [ 0  1  2  3  4]\n",
            " [10 11 12 13 14]\n",
            " [15 16 17 18 19]\n",
            " [20 21 22 23 24]]\n"
          ]
        }
      ]
    },
    {
      "cell_type": "code",
      "source": [
        "# 73. Consider a set of 10 triplets describing 10 triangles \n",
        "#(with shared vertices), find the set of unique line segments composing all the triangles\n",
        "faces = np.random.randint(0,100,(10,3))\n",
        "F = np.roll(faces.repeat(2,axis=1),-1,axis=1)\n",
        "F = F.reshape(len(F)*3,2)\n",
        "F = np.sort(F,axis=1)\n",
        "G = F.view( dtype=[('p0',F.dtype),('p1',F.dtype)] )\n",
        "G = np.unique(G)\n",
        "print(G)"
      ],
      "metadata": {
        "colab": {
          "base_uri": "https://localhost:8080/"
        },
        "id": "EkotE1zpnr5X",
        "outputId": "c5470ec1-14ea-4a1f-c4f1-ecdafa2d6d9a"
      },
      "execution_count": 75,
      "outputs": [
        {
          "output_type": "stream",
          "name": "stdout",
          "text": [
            "[( 1, 63) ( 1, 79) ( 2, 59) ( 2, 98) ( 4, 56) ( 4, 99) ( 5, 18) ( 5, 84)\n",
            " ( 7, 73) ( 7, 82) (10, 64) (10, 88) (18, 27) (18, 84) (18, 97) (26, 38)\n",
            " (26, 52) (27, 97) (34, 74) (34, 98) (38, 52) (40, 91) (40, 94) (56, 99)\n",
            " (59, 98) (63, 79) (64, 88) (73, 82) (74, 98) (91, 94)]\n"
          ]
        }
      ]
    },
    {
      "cell_type": "code",
      "source": [
        "# 74. Given a sorted array C that corresponds to a bincount, \n",
        "# how to produce an array A such that np.bincount(A) == C?\n",
        "# Author: Jaime Fernández del Río\n",
        "\n",
        "C = np.bincount([1,1,2,3,4,4,6])\n",
        "A = np.repeat(np.arange(len(C)), C)\n",
        "print(A)"
      ],
      "metadata": {
        "colab": {
          "base_uri": "https://localhost:8080/"
        },
        "id": "4D1LqF8NoDmm",
        "outputId": "4cbf3962-5b82-463d-98cd-fd3b4ed7f6df"
      },
      "execution_count": 76,
      "outputs": [
        {
          "output_type": "stream",
          "name": "stdout",
          "text": [
            "[1 1 2 3 4 4 6]\n"
          ]
        }
      ]
    },
    {
      "cell_type": "code",
      "source": [
        "# 75. How to compute averages using a sliding window over an array?\n",
        "# Author: Jaime Fernández del Río\n",
        "\n",
        "def moving_average(a, n=3) :\n",
        "    ret = np.cumsum(a, dtype=float)\n",
        "    ret[n:] = ret[n:] - ret[:-n]\n",
        "    return ret[n - 1:] / n\n",
        "Z = np.arange(20)\n",
        "print(moving_average(Z, n=3))\n",
        "\n",
        "# Author: Jeff Luo (@Jeff1999)\n",
        "# make sure your NumPy >= 1.20.0\n",
        "\n",
        "from numpy.lib.stride_tricks import sliding_window_view\n",
        "\n",
        "Z = np.arange(20)\n",
        "print(sliding_window_view(Z, window_shape=3).mean(axis=-1))"
      ],
      "metadata": {
        "colab": {
          "base_uri": "https://localhost:8080/"
        },
        "id": "RDEShplYoPxm",
        "outputId": "95fd134f-1227-47da-dd8a-32fc225ecf73"
      },
      "execution_count": 77,
      "outputs": [
        {
          "output_type": "stream",
          "name": "stdout",
          "text": [
            "[ 1.  2.  3.  4.  5.  6.  7.  8.  9. 10. 11. 12. 13. 14. 15. 16. 17. 18.]\n",
            "[ 1.  2.  3.  4.  5.  6.  7.  8.  9. 10. 11. 12. 13. 14. 15. 16. 17. 18.]\n"
          ]
        }
      ]
    }
  ]
}