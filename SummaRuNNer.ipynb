{
  "nbformat": 4,
  "nbformat_minor": 0,
  "metadata": {
    "colab": {
      "name": "SummaRuNNer.ipynb",
      "provenance": [],
      "mount_file_id": "1Dy-s4V-M_W3USNgm6jc8giMhy97qb3Lt",
      "authorship_tag": "ABX9TyMpRbFqGYUMetrUVIOlpr1m",
      "include_colab_link": true
    },
    "kernelspec": {
      "name": "python3",
      "display_name": "Python 3"
    },
    "language_info": {
      "name": "python"
    },
    "accelerator": "GPU"
  },
  "cells": [
    {
      "cell_type": "markdown",
      "metadata": {
        "id": "view-in-github",
        "colab_type": "text"
      },
      "source": [
        "<a href=\"https://colab.research.google.com/github/bluebluer/hello-wolrd/blob/master/SummaRuNNer.ipynb\" target=\"_parent\"><img src=\"https://colab.research.google.com/assets/colab-badge.svg\" alt=\"Open In Colab\"/></a>"
      ]
    },
    {
      "cell_type": "code",
      "execution_count": 1,
      "metadata": {
        "colab": {
          "base_uri": "https://localhost:8080/"
        },
        "id": "F0X8qLrK06OV",
        "outputId": "6469ea78-e4ea-4db9-8588-72c35716a9f0"
      },
      "outputs": [
        {
          "output_type": "stream",
          "name": "stdout",
          "text": [
            "Cloning into 'SummaRuNNer'...\n",
            "remote: Enumerating objects: 431, done.\u001b[K\n",
            "remote: Counting objects: 100% (46/46), done.\u001b[K\n",
            "remote: Compressing objects: 100% (7/7), done.\u001b[K\n",
            "remote: Total 431 (delta 40), reused 39 (delta 39), pack-reused 385\u001b[K\n",
            "Receiving objects: 100% (431/431), 179.31 MiB | 37.58 MiB/s, done.\n",
            "Resolving deltas: 100% (222/222), done.\n",
            "Checking out files: 100% (27/27), done.\n"
          ]
        }
      ],
      "source": [
        "! git clone https://github.com/hpzhao/SummaRuNNer"
      ]
    },
    {
      "cell_type": "code",
      "source": [
        "%cd /content/SummaRuNNer/data\n"
      ],
      "metadata": {
        "colab": {
          "base_uri": "https://localhost:8080/"
        },
        "id": "UL9Q1V7g3Vc7",
        "outputId": "498d0cf3-e5c7-48eb-a161-659df8b23e3e"
      },
      "execution_count": 2,
      "outputs": [
        {
          "output_type": "stream",
          "name": "stdout",
          "text": [
            "/content/SummaRuNNer/data\n"
          ]
        }
      ]
    },
    {
      "cell_type": "code",
      "source": [
        "! pwd"
      ],
      "metadata": {
        "colab": {
          "base_uri": "https://localhost:8080/"
        },
        "id": "zsVD_Ol73DuF",
        "outputId": "986006ca-b37f-4035-9c86-cb200b6a125e"
      },
      "execution_count": 3,
      "outputs": [
        {
          "output_type": "stream",
          "name": "stdout",
          "text": [
            "/content/SummaRuNNer/data\n"
          ]
        }
      ]
    },
    {
      "cell_type": "code",
      "source": [
        "! tar xvf data.tar"
      ],
      "metadata": {
        "colab": {
          "base_uri": "https://localhost:8080/"
        },
        "id": "PFv9zCQi35xF",
        "outputId": "bde7a357-14bb-4727-85b8-dd2d45d7043d"
      },
      "execution_count": 5,
      "outputs": [
        {
          "output_type": "stream",
          "name": "stdout",
          "text": [
            "data/\n",
            "data/embedding.npz\n",
            "data/test.json\n",
            "data/train.json\n",
            "data/val.json\n",
            "data/word2id.json\n"
          ]
        }
      ]
    },
    {
      "cell_type": "code",
      "source": [
        "!gzip -d data.tar.gz"
      ],
      "metadata": {
        "id": "Z67xjUmg3dmk"
      },
      "execution_count": 4,
      "outputs": []
    },
    {
      "cell_type": "code",
      "source": [
        "! pip install pipenv"
      ],
      "metadata": {
        "colab": {
          "base_uri": "https://localhost:8080/"
        },
        "id": "Qyta812p4JoF",
        "outputId": "2fb66321-c46f-425c-c8f9-835f02787ed1"
      },
      "execution_count": 6,
      "outputs": [
        {
          "output_type": "stream",
          "name": "stdout",
          "text": [
            "Looking in indexes: https://pypi.org/simple, https://us-python.pkg.dev/colab-wheels/public/simple/\n",
            "Collecting pipenv\n",
            "  Downloading pipenv-2022.5.2-py2.py3-none-any.whl (3.9 MB)\n",
            "\u001b[K     |████████████████████████████████| 3.9 MB 29.1 MB/s \n",
            "\u001b[?25hCollecting virtualenv\n",
            "  Downloading virtualenv-20.14.1-py2.py3-none-any.whl (8.8 MB)\n",
            "\u001b[K     |████████████████████████████████| 8.8 MB 66.5 MB/s \n",
            "\u001b[?25hRequirement already satisfied: setuptools>=36.2.1 in /usr/local/lib/python3.7/dist-packages (from pipenv) (57.4.0)\n",
            "Collecting pip>=22.0.4\n",
            "  Downloading pip-22.1.2-py3-none-any.whl (2.1 MB)\n",
            "\u001b[K     |████████████████████████████████| 2.1 MB 65.2 MB/s \n",
            "\u001b[?25hRequirement already satisfied: certifi in /usr/local/lib/python3.7/dist-packages (from pipenv) (2022.5.18.1)\n",
            "Collecting virtualenv-clone>=0.2.5\n",
            "  Downloading virtualenv_clone-0.5.7-py3-none-any.whl (6.6 kB)\n",
            "Collecting distlib<1,>=0.3.1\n",
            "  Downloading distlib-0.3.4-py2.py3-none-any.whl (461 kB)\n",
            "\u001b[K     |████████████████████████████████| 461 kB 61.1 MB/s \n",
            "\u001b[?25hRequirement already satisfied: filelock<4,>=3.2 in /usr/local/lib/python3.7/dist-packages (from virtualenv->pipenv) (3.7.0)\n",
            "Requirement already satisfied: six<2,>=1.9.0 in /usr/local/lib/python3.7/dist-packages (from virtualenv->pipenv) (1.15.0)\n",
            "Collecting platformdirs<3,>=2\n",
            "  Downloading platformdirs-2.5.2-py3-none-any.whl (14 kB)\n",
            "Requirement already satisfied: importlib-metadata>=0.12 in /usr/local/lib/python3.7/dist-packages (from virtualenv->pipenv) (4.11.4)\n",
            "Requirement already satisfied: typing-extensions>=3.6.4 in /usr/local/lib/python3.7/dist-packages (from importlib-metadata>=0.12->virtualenv->pipenv) (4.2.0)\n",
            "Requirement already satisfied: zipp>=0.5 in /usr/local/lib/python3.7/dist-packages (from importlib-metadata>=0.12->virtualenv->pipenv) (3.8.0)\n",
            "Installing collected packages: platformdirs, distlib, virtualenv-clone, virtualenv, pip, pipenv\n",
            "  Attempting uninstall: pip\n",
            "    Found existing installation: pip 21.1.3\n",
            "    Uninstalling pip-21.1.3:\n",
            "      Successfully uninstalled pip-21.1.3\n",
            "Successfully installed distlib-0.3.4 pip-22.1.2 pipenv-2022.5.2 platformdirs-2.5.2 virtualenv-20.14.1 virtualenv-clone-0.5.7\n"
          ]
        }
      ]
    },
    {
      "cell_type": "code",
      "source": [
        "! pipenv install"
      ],
      "metadata": {
        "colab": {
          "base_uri": "https://localhost:8080/"
        },
        "id": "ObEyc0gh4g_T",
        "outputId": "39bd862a-2b86-4f14-b631-9722bfce15d8"
      },
      "execution_count": 7,
      "outputs": [
        {
          "output_type": "stream",
          "name": "stdout",
          "text": [
            "\u001b[39m\u001b[1mCreating a virtualenv for this project...\u001b[39m\u001b[22m\n",
            "Pipfile: \u001b[33m\u001b[1m/content/SummaRuNNer/Pipfile\u001b[39m\u001b[22m\n",
            "\u001b[39m\u001b[1mUsing\u001b[39m\u001b[22m \u001b[33m\u001b[1m/usr/bin/python3.6m\u001b[39m\u001b[22m \u001b[32m\u001b[22m(3.6.9)\u001b[39m\u001b[22m \u001b[39m\u001b[1mto create virtualenv...\u001b[39m\u001b[22m\n",
            "⠹\u001b[0m Creating virtual environment...\u001b[K\u001b[36m\u001b[22mcreated virtual environment CPython3.6.9.final.0-64 in 843ms\n",
            "  creator CPython3Posix(dest=/root/.local/share/virtualenvs/SummaRuNNer-AuwSmjV-, clear=False, no_vcs_ignore=False, global=False)\n",
            "  seeder FromAppData(download=False, pip=bundle, setuptools=bundle, wheel=bundle, via=copy, app_data_dir=/root/.local/share/virtualenv)\n",
            "    added seed packages: pip==21.3.1, setuptools==59.6.0, wheel==0.37.1\n",
            "  activators BashActivator,CShellActivator,FishActivator,NushellActivator,PowerShellActivator,PythonActivator\n",
            "\u001b[39m\u001b[22m\n",
            "\u001b[K\u001b[?25h\u001b[32m\u001b[22m✔ Successfully created virtual environment!\u001b[39m\u001b[22m\u001b[0m \n",
            "Virtualenv location: \u001b[32m\u001b[22m/root/.local/share/virtualenvs/SummaRuNNer-AuwSmjV-\u001b[39m\u001b[22m\n",
            "\u001b[39m\u001b[1mInstalling dependencies from Pipfile.lock (550765)...\u001b[39m\u001b[22m\n",
            "\u001b[31m\u001b[22mAn error occurred while installing\u001b[39m\u001b[22m \u001b[32m\u001b[22mtorch==0.3.1 --hash=sha256:9bd42b43a1e078ca40c73d4c585ae921dd2271427f55f589d544508433205637 --hash=sha256:3e1d77faad3cd6c9009249406f333239c1dd06321b0a27142cf996297af5f0e5 --hash=sha256:67722a24be80beca362eb6e612b5e29f358143d62f2b53729f2c6b4184f89d09 --hash=sha256:bf8f79bd2e01341d9983390d23411f90883f13352e3c835e4ec136456a4ab7fb --hash=sha256:fc0894f970693fcdb369d887c1662ff96a069690747d79a43d18f6115808026b --hash=sha256:db31189d3f4008db7aa988a912cbc358f006151da4f10f1448ab87bcc0477829 --hash=sha256:5af3ff750ca2b78b86cbb2da1689a70ffcab88b801bcbf92d6810e182526e654\u001b[39m\u001b[22m! Will try again.\n",
            "  🐍   \u001b[32m\u001b[1m▉\u001b[39m\u001b[22m\u001b[32m\u001b[1m▉\u001b[39m\u001b[22m\u001b[32m\u001b[1m▉\u001b[39m\u001b[22m\u001b[32m\u001b[1m▉\u001b[39m\u001b[22m\u001b[32m\u001b[1m▉\u001b[39m\u001b[22m\u001b[32m\u001b[1m▉\u001b[39m\u001b[22m\u001b[32m\u001b[1m▉\u001b[39m\u001b[22m\u001b[32m\u001b[1m▉\u001b[39m\u001b[22m\u001b[32m\u001b[1m▉\u001b[39m\u001b[22m\u001b[32m\u001b[1m▉\u001b[39m\u001b[22m\u001b[32m\u001b[1m▉\u001b[39m\u001b[22m\u001b[32m\u001b[1m▉\u001b[39m\u001b[22m\u001b[32m\u001b[1m▉\u001b[39m\u001b[22m\u001b[32m\u001b[1m▉\u001b[39m\u001b[22m\u001b[32m\u001b[1m▉\u001b[39m\u001b[22m\u001b[32m\u001b[1m▉\u001b[39m\u001b[22m\u001b[32m\u001b[1m▉\u001b[39m\u001b[22m\u001b[32m\u001b[1m▉\u001b[39m\u001b[22m\u001b[32m\u001b[1m▉\u001b[39m\u001b[22m\u001b[32m\u001b[1m▉\u001b[39m\u001b[22m\u001b[32m\u001b[1m▉\u001b[39m\u001b[22m\u001b[32m\u001b[1m▉\u001b[39m\u001b[22m\u001b[32m\u001b[1m▉\u001b[39m\u001b[22m\u001b[32m\u001b[1m▉\u001b[39m\u001b[22m\u001b[32m\u001b[1m▉\u001b[39m\u001b[22m\u001b[32m\u001b[1m▉\u001b[39m\u001b[22m\u001b[32m\u001b[1m▉\u001b[39m\u001b[22m\u001b[32m\u001b[1m▉\u001b[39m\u001b[22m\u001b[32m\u001b[1m▉\u001b[39m\u001b[22m\u001b[32m\u001b[1m▉\u001b[39m\u001b[22m\u001b[32m\u001b[1m▉\u001b[39m\u001b[22m\u001b[32m\u001b[1m▉\u001b[39m\u001b[22m 8/8 — \u001b[30m\u001b[22m00:00:17\u001b[39m\u001b[22m\n",
            "\u001b[39m\u001b[1mInstalling initially failed dependencies...\u001b[39m\u001b[22m\n",
            "[pipenv.exceptions.InstallError]: Looking in indexes: https://pypi.python.org/simple, https://us-python.pkg.dev/colab-wheels/public/simple/\n",
            "[pipenv.exceptions.InstallError]: ERROR: Could not find a version that satisfies the requirement torch==0.3.1 (from versions: 1.0.0, 1.0.1, 1.0.1.post2, 1.1.0, 1.2.0, 1.3.0, 1.3.1, 1.4.0, 1.5.0, 1.5.1, 1.6.0, 1.7.0, 1.7.1, 1.8.0, 1.8.1, 1.9.0, 1.9.1, 1.10.0, 1.10.1, 1.10.2)\n",
            "[pipenv.exceptions.InstallError]: ERROR: No matching distribution found for torch==0.3.1\n",
            "\u001b[31m\u001b[1mERROR\u001b[0m: Couldn't install package: \u001b[1mtorch\u001b[0m\n",
            " \u001b[33mPackage installation failed...\u001b[0m\n",
            "  \u001b[39m\u001b[1m☤  \u001b[39m\u001b[22m\u001b[32m\u001b[1m▉\u001b[39m\u001b[22m\u001b[32m\u001b[1m▉\u001b[39m\u001b[22m\u001b[32m\u001b[1m▉\u001b[39m\u001b[22m\u001b[32m\u001b[1m▉\u001b[39m\u001b[22m\u001b[32m\u001b[1m▉\u001b[39m\u001b[22m\u001b[32m\u001b[1m▉\u001b[39m\u001b[22m\u001b[32m\u001b[1m▉\u001b[39m\u001b[22m\u001b[32m\u001b[1m▉\u001b[39m\u001b[22m\u001b[32m\u001b[1m▉\u001b[39m\u001b[22m\u001b[32m\u001b[1m▉\u001b[39m\u001b[22m\u001b[32m\u001b[1m▉\u001b[39m\u001b[22m\u001b[32m\u001b[1m▉\u001b[39m\u001b[22m\u001b[32m\u001b[1m▉\u001b[39m\u001b[22m\u001b[32m\u001b[1m▉\u001b[39m\u001b[22m\u001b[32m\u001b[1m▉\u001b[39m\u001b[22m\u001b[32m\u001b[1m▉\u001b[39m\u001b[22m\u001b[32m\u001b[1m▉\u001b[39m\u001b[22m\u001b[32m\u001b[1m▉\u001b[39m\u001b[22m\u001b[32m\u001b[1m▉\u001b[39m\u001b[22m\u001b[32m\u001b[1m▉\u001b[39m\u001b[22m\u001b[32m\u001b[1m▉\u001b[39m\u001b[22m\u001b[32m\u001b[1m▉\u001b[39m\u001b[22m\u001b[32m\u001b[1m▉\u001b[39m\u001b[22m\u001b[32m\u001b[1m▉\u001b[39m\u001b[22m\u001b[32m\u001b[1m▉\u001b[39m\u001b[22m\u001b[32m\u001b[1m▉\u001b[39m\u001b[22m\u001b[32m\u001b[1m▉\u001b[39m\u001b[22m\u001b[32m\u001b[1m▉\u001b[39m\u001b[22m\u001b[32m\u001b[1m▉\u001b[39m\u001b[22m\u001b[32m\u001b[1m▉\u001b[39m\u001b[22m\u001b[32m\u001b[1m▉\u001b[39m\u001b[22m\u001b[32m\u001b[1m▉\u001b[39m\u001b[22m 0/1 — \u001b[30m\u001b[22m00:00:01\u001b[39m\u001b[22m\n",
            "\u001b[0m"
          ]
        }
      ]
    },
    {
      "cell_type": "code",
      "source": [
        "! pip install torch"
      ],
      "metadata": {
        "colab": {
          "base_uri": "https://localhost:8080/"
        },
        "id": "rrrwWDKG6dgX",
        "outputId": "e810156f-9dda-45b7-ad11-75cc6b09b0b6"
      },
      "execution_count": 12,
      "outputs": [
        {
          "output_type": "stream",
          "name": "stdout",
          "text": [
            "Looking in indexes: https://pypi.org/simple, https://us-python.pkg.dev/colab-wheels/public/simple/\n",
            "Requirement already satisfied: torch in /usr/local/lib/python3.7/dist-packages (1.11.0+cu113)\n",
            "Requirement already satisfied: typing-extensions in /usr/local/lib/python3.7/dist-packages (from torch) (4.2.0)\n",
            "\u001b[33mWARNING: Running pip as the 'root' user can result in broken permissions and conflicting behaviour with the system package manager. It is recommended to use a virtual environment instead: https://pip.pypa.io/warnings/venv\u001b[0m\u001b[33m\n",
            "\u001b[0m"
          ]
        }
      ]
    },
    {
      "cell_type": "code",
      "source": [
        "! python main.py -device 0 -batch_size 32 -model RNN_RNN -seed 1 -save_dir checkpoints/RNN_RNN.pt"
      ],
      "metadata": {
        "colab": {
          "base_uri": "https://localhost:8080/"
        },
        "id": "LOm8hC6X6ktM",
        "outputId": "a65b7dc3-4766-4c5a-fbb2-fd583396718b"
      },
      "execution_count": 13,
      "outputs": [
        {
          "output_type": "stream",
          "name": "stdout",
          "text": [
            "2022-06-02 15:01:00,493 [INFO] Loading vocab,train and val dataset.Wait a second,please\n",
            "RNN_RNN(\n",
            "  (abs_pos_embed): Embedding(100, 50)\n",
            "  (rel_pos_embed): Embedding(10, 50)\n",
            "  (embed): Embedding(153824, 100, padding_idx=0)\n",
            "  (word_RNN): GRU(100, 200, batch_first=True, bidirectional=True)\n",
            "  (sent_RNN): GRU(400, 200, batch_first=True, bidirectional=True)\n",
            "  (fc): Linear(in_features=400, out_features=400, bias=True)\n",
            "  (content): Linear(in_features=400, out_features=1, bias=False)\n",
            "  (salience): Bilinear(in1_features=400, in2_features=400, out_features=1, bias=False)\n",
            "  (novelty): Bilinear(in1_features=400, in2_features=400, out_features=1, bias=False)\n",
            "  (abs_pos): Linear(in_features=50, out_features=1, bias=False)\n",
            "  (rel_pos): Linear(in_features=50, out_features=1, bias=False)\n",
            ")\n",
            "#Params: 17.0M\n",
            "/usr/local/lib/python3.7/dist-packages/torch/nn/functional.py:1933: UserWarning: nn.functional.tanh is deprecated. Use torch.tanh instead.\n",
            "  warnings.warn(\"nn.functional.tanh is deprecated. Use torch.tanh instead.\")\n",
            "/usr/local/lib/python3.7/dist-packages/torch/nn/functional.py:1944: UserWarning: nn.functional.sigmoid is deprecated. Use torch.sigmoid instead.\n",
            "  warnings.warn(\"nn.functional.sigmoid is deprecated. Use torch.sigmoid instead.\")\n",
            "main.py:141: UserWarning: torch.nn.utils.clip_grad_norm is now deprecated in favor of torch.nn.utils.clip_grad_norm_.\n",
            "  clip_grad_norm(net.parameters(), args.max_norm)\n",
            "Traceback (most recent call last):\n",
            "  File \"main.py\", line 276, in <module>\n",
            "    train()\n",
            "  File \"main.py\", line 147, in train\n",
            "    cur_loss = eval(net,vocab,val_iter,criterion)\n",
            "  File \"main.py\", line 81, in eval\n",
            "    total_loss += loss.data[0]\n",
            "IndexError: invalid index of a 0-dim tensor. Use `tensor.item()` in Python or `tensor.item<T>()` in C++ to convert a 0-dim tensor to a number\n"
          ]
        }
      ]
    },
    {
      "cell_type": "code",
      "source": [
        "%cd /content/SummaRuNNer"
      ],
      "metadata": {
        "colab": {
          "base_uri": "https://localhost:8080/"
        },
        "id": "oXauZ7Oh66_l",
        "outputId": "403da67a-1836-43e5-9038-d666279cbcc4"
      },
      "execution_count": 10,
      "outputs": [
        {
          "output_type": "stream",
          "name": "stdout",
          "text": [
            "/content/SummaRuNNer\n"
          ]
        }
      ]
    },
    {
      "cell_type": "code",
      "source": [
        "! python main.py -device 0 -batch_size 32 -model RNN_RNN -seed 1 -save_dir checkpoints/RNN_RNN.pt"
      ],
      "metadata": {
        "colab": {
          "base_uri": "https://localhost:8080/"
        },
        "id": "k2V1gtjm69IF",
        "outputId": "36cbda3d-6e45-4adc-c730-0ad425e9a316"
      },
      "execution_count": 18,
      "outputs": [
        {
          "output_type": "stream",
          "name": "stdout",
          "text": [
            "2022-06-02 15:06:51,907 [INFO] Loading vocab,train and val dataset.Wait a second,please\n",
            "RNN_RNN(\n",
            "  (abs_pos_embed): Embedding(100, 50)\n",
            "  (rel_pos_embed): Embedding(10, 50)\n",
            "  (embed): Embedding(153824, 100, padding_idx=0)\n",
            "  (word_RNN): GRU(100, 200, batch_first=True, bidirectional=True)\n",
            "  (sent_RNN): GRU(400, 200, batch_first=True, bidirectional=True)\n",
            "  (fc): Linear(in_features=400, out_features=400, bias=True)\n",
            "  (content): Linear(in_features=400, out_features=1, bias=False)\n",
            "  (salience): Bilinear(in1_features=400, in2_features=400, out_features=1, bias=False)\n",
            "  (novelty): Bilinear(in1_features=400, in2_features=400, out_features=1, bias=False)\n",
            "  (abs_pos): Linear(in_features=50, out_features=1, bias=False)\n",
            "  (rel_pos): Linear(in_features=50, out_features=1, bias=False)\n",
            ")\n",
            "#Params: 17.0M\n",
            "/usr/local/lib/python3.7/dist-packages/torch/nn/functional.py:1933: UserWarning: nn.functional.tanh is deprecated. Use torch.tanh instead.\n",
            "  warnings.warn(\"nn.functional.tanh is deprecated. Use torch.tanh instead.\")\n",
            "/usr/local/lib/python3.7/dist-packages/torch/nn/functional.py:1944: UserWarning: nn.functional.sigmoid is deprecated. Use torch.sigmoid instead.\n",
            "  warnings.warn(\"nn.functional.sigmoid is deprecated. Use torch.sigmoid instead.\")\n",
            "main.py:141: UserWarning: torch.nn.utils.clip_grad_norm is now deprecated in favor of torch.nn.utils.clip_grad_norm_.\n",
            "  clip_grad_norm(net.parameters(), args.max_norm)\n",
            "2022-06-02 15:10:55,588 [INFO] Epoch:  1 Min_Val_Loss: 1.162443 Cur_Val_Loss: 1.162443\n",
            "Traceback (most recent call last):\n",
            "  File \"main.py\", line 276, in <module>\n",
            "    train()\n",
            "  File \"main.py\", line 140, in train\n",
            "    loss.backward()\n",
            "  File \"/usr/local/lib/python3.7/dist-packages/torch/_tensor.py\", line 363, in backward\n",
            "    torch.autograd.backward(self, gradient, retain_graph, create_graph, inputs=inputs)\n",
            "  File \"/usr/local/lib/python3.7/dist-packages/torch/autograd/__init__.py\", line 175, in backward\n",
            "    allow_unreachable=True, accumulate_grad=True)  # Calls into the C++ engine to run the backward pass\n",
            "KeyboardInterrupt\n"
          ]
        }
      ]
    },
    {
      "cell_type": "code",
      "source": [
        "! python main.py -device 0 -batch_size 1 -test -load_dir checkpoints/RNN_RNN_seed_1.pt"
      ],
      "metadata": {
        "colab": {
          "base_uri": "https://localhost:8080/"
        },
        "id": "yCsOsUan8PYe",
        "outputId": "6a4f9021-c031-43e9-c1e5-6a361809785c"
      },
      "execution_count": 20,
      "outputs": [
        {
          "output_type": "stream",
          "name": "stdout",
          "text": [
            "Traceback (most recent call last):\n",
            "  File \"main.py\", line 270, in <module>\n",
            "    test()\n",
            "  File \"main.py\", line 171, in test\n",
            "    checkpoint = torch.load(args.load_dir)\n",
            "  File \"/usr/local/lib/python3.7/dist-packages/torch/serialization.py\", line 713, in load\n",
            "    return _legacy_load(opened_file, map_location, pickle_module, **pickle_load_args)\n",
            "  File \"/usr/local/lib/python3.7/dist-packages/torch/serialization.py\", line 930, in _legacy_load\n",
            "    result = unpickler.load()\n",
            "  File \"/usr/local/lib/python3.7/dist-packages/torch/serialization.py\", line 876, in persistent_load\n",
            "    wrap_storage=restore_location(obj, location),\n",
            "  File \"/usr/local/lib/python3.7/dist-packages/torch/serialization.py\", line 176, in default_restore_location\n",
            "    result = fn(storage, location)\n",
            "  File \"/usr/local/lib/python3.7/dist-packages/torch/serialization.py\", line 152, in _cuda_deserialize\n",
            "    device = validate_cuda_device(location)\n",
            "  File \"/usr/local/lib/python3.7/dist-packages/torch/serialization.py\", line 143, in validate_cuda_device\n",
            "    raise RuntimeError('Attempting to deserialize object on CUDA device '\n",
            "RuntimeError: Attempting to deserialize object on CUDA device 2 but torch.cuda.device_count() is 1. Please use torch.load with map_location to map your storages to an existing device.\n"
          ]
        }
      ]
    }
  ]
}